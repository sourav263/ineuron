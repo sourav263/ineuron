{
 "cells": [
  {
   "cell_type": "markdown",
   "metadata": {},
   "source": [
    "# Introduction \n",
    "\n",
    "-  **This notebook for making Data analysis and Machine Learning model for the \"Item_Outlet_Sales\".**\n",
    "- **first, Data Analysis processing was made to clean, extract, and visualise data in order to understand it properly.**\n",
    "- **Then, i haaved used 3 models to predcit the sales [Linear Regression, DecisionTreeRegressor, RandomForestRegressor]**"
   ]
  },
  {
   "cell_type": "code",
   "execution_count": 1,
   "metadata": {
    "execution": {
     "iopub.execute_input": "2023-07-10T08:32:34.148061Z",
     "iopub.status.busy": "2023-07-10T08:32:34.147472Z",
     "iopub.status.idle": "2023-07-10T08:32:35.551319Z",
     "shell.execute_reply": "2023-07-10T08:32:35.549648Z",
     "shell.execute_reply.started": "2023-07-10T08:32:34.148004Z"
    }
   },
   "outputs": [],
   "source": [
    "import pandas as pd\n",
    "import matplotlib.pyplot as plt\n",
    "import numpy as np\n",
    "import seaborn as sns\n",
    "\n",
    "### sklearn \n",
    "from sklearn.impute import SimpleImputer\n",
    "from sklearn.experimental import enable_iterative_imputer\n",
    "from sklearn.impute import IterativeImputer\n",
    "from sklearn.preprocessing import LabelEncoder\n",
    "from sklearn.preprocessing import OneHotEncoder\n",
    "from sklearn.preprocessing import LabelBinarizer\n",
    "from sklearn.preprocessing import StandardScaler\n",
    "from sklearn.preprocessing import MinMaxScaler\n",
    "from sklearn.model_selection import train_test_split\n",
    "from sklearn.metrics import mean_squared_error\n",
    "from sklearn.pipeline import Pipeline\n",
    "\n",
    "\n",
    "## linear regression model\n",
    "from sklearn.linear_model import LinearRegression, Lasso\n",
    "#DecisionTreeRegressor model\n",
    "from sklearn.tree import DecisionTreeRegressor\n",
    "#RandomForestRegressor\n",
    "from sklearn.ensemble import RandomForestRegressor\n",
    "# Fine-Tune using GridSearchCV\n",
    "from sklearn.model_selection import GridSearchCV\n",
    "\n",
    "#cross-validation\n",
    "from sklearn.model_selection import cross_val_score\n",
    "\n",
    "import os"
   ]
  },
  {
   "cell_type": "code",
   "execution_count": 2,
   "metadata": {
    "execution": {
     "iopub.execute_input": "2023-07-10T08:32:35.555711Z",
     "iopub.status.busy": "2023-07-10T08:32:35.554412Z",
     "iopub.status.idle": "2023-07-10T08:32:35.639854Z",
     "shell.execute_reply": "2023-07-10T08:32:35.638460Z",
     "shell.execute_reply.started": "2023-07-10T08:32:35.555659Z"
    }
   },
   "outputs": [],
   "source": [
    "#importing data \n",
    "\"D:\\D\\machinlearning\\projects\\Bigmart Sales\"\n",
    "\n",
    "train = pd.read_csv(\"/kaggle/input/bigmart-sales-data/Train.csv\")\n",
    "test = pd.read_csv(\"/kaggle/input/bigmart-sales-data/Test.csv\")"
   ]
  },
  {
   "cell_type": "code",
   "execution_count": 3,
   "metadata": {
    "execution": {
     "iopub.execute_input": "2023-07-10T08:32:35.643119Z",
     "iopub.status.busy": "2023-07-10T08:32:35.641514Z",
     "iopub.status.idle": "2023-07-10T08:32:35.654582Z",
     "shell.execute_reply": "2023-07-10T08:32:35.653127Z",
     "shell.execute_reply.started": "2023-07-10T08:32:35.643063Z"
    }
   },
   "outputs": [
    {
     "data": {
      "text/plain": [
       "((8523, 12), (5681, 11))"
      ]
     },
     "execution_count": 3,
     "metadata": {},
     "output_type": "execute_result"
    }
   ],
   "source": [
    "# shape of the data\n",
    "train.shape, test.shape"
   ]
  },
  {
   "cell_type": "markdown",
   "metadata": {},
   "source": [
    "#  Exploratory Data Analaysis"
   ]
  },
  {
   "cell_type": "code",
   "execution_count": 4,
   "metadata": {
    "execution": {
     "iopub.execute_input": "2023-07-10T08:32:35.658223Z",
     "iopub.status.busy": "2023-07-10T08:32:35.657806Z",
     "iopub.status.idle": "2023-07-10T08:32:35.697469Z",
     "shell.execute_reply": "2023-07-10T08:32:35.696076Z",
     "shell.execute_reply.started": "2023-07-10T08:32:35.658180Z"
    }
   },
   "outputs": [
    {
     "name": "stdout",
     "output_type": "stream",
     "text": [
      "<class 'pandas.core.frame.DataFrame'>\n",
      "RangeIndex: 8523 entries, 0 to 8522\n",
      "Data columns (total 12 columns):\n",
      " #   Column                     Non-Null Count  Dtype  \n",
      "---  ------                     --------------  -----  \n",
      " 0   Item_Identifier            8523 non-null   object \n",
      " 1   Item_Weight                7060 non-null   float64\n",
      " 2   Item_Fat_Content           8523 non-null   object \n",
      " 3   Item_Visibility            8523 non-null   float64\n",
      " 4   Item_Type                  8523 non-null   object \n",
      " 5   Item_MRP                   8523 non-null   float64\n",
      " 6   Outlet_Identifier          8523 non-null   object \n",
      " 7   Outlet_Establishment_Year  8523 non-null   int64  \n",
      " 8   Outlet_Size                6113 non-null   object \n",
      " 9   Outlet_Location_Type       8523 non-null   object \n",
      " 10  Outlet_Type                8523 non-null   object \n",
      " 11  Item_Outlet_Sales          8523 non-null   float64\n",
      "dtypes: float64(4), int64(1), object(7)\n",
      "memory usage: 799.2+ KB\n"
     ]
    }
   ],
   "source": [
    "train.info()"
   ]
  },
  {
   "cell_type": "code",
   "execution_count": 5,
   "metadata": {
    "execution": {
     "iopub.execute_input": "2023-07-10T08:32:35.700273Z",
     "iopub.status.busy": "2023-07-10T08:32:35.699439Z",
     "iopub.status.idle": "2023-07-10T08:32:35.718148Z",
     "shell.execute_reply": "2023-07-10T08:32:35.716662Z",
     "shell.execute_reply.started": "2023-07-10T08:32:35.700214Z"
    }
   },
   "outputs": [
    {
     "name": "stdout",
     "output_type": "stream",
     "text": [
      "<class 'pandas.core.frame.DataFrame'>\n",
      "RangeIndex: 5681 entries, 0 to 5680\n",
      "Data columns (total 11 columns):\n",
      " #   Column                     Non-Null Count  Dtype  \n",
      "---  ------                     --------------  -----  \n",
      " 0   Item_Identifier            5681 non-null   object \n",
      " 1   Item_Weight                4705 non-null   float64\n",
      " 2   Item_Fat_Content           5681 non-null   object \n",
      " 3   Item_Visibility            5681 non-null   float64\n",
      " 4   Item_Type                  5681 non-null   object \n",
      " 5   Item_MRP                   5681 non-null   float64\n",
      " 6   Outlet_Identifier          5681 non-null   object \n",
      " 7   Outlet_Establishment_Year  5681 non-null   int64  \n",
      " 8   Outlet_Size                4075 non-null   object \n",
      " 9   Outlet_Location_Type       5681 non-null   object \n",
      " 10  Outlet_Type                5681 non-null   object \n",
      "dtypes: float64(3), int64(1), object(7)\n",
      "memory usage: 488.3+ KB\n"
     ]
    }
   ],
   "source": [
    "test.info()"
   ]
  },
  {
   "cell_type": "code",
   "execution_count": 6,
   "metadata": {
    "execution": {
     "iopub.execute_input": "2023-07-10T08:32:35.720447Z",
     "iopub.status.busy": "2023-07-10T08:32:35.719717Z",
     "iopub.status.idle": "2023-07-10T08:32:35.771685Z",
     "shell.execute_reply": "2023-07-10T08:32:35.770082Z",
     "shell.execute_reply.started": "2023-07-10T08:32:35.720399Z"
    }
   },
   "outputs": [
    {
     "data": {
      "text/html": [
       "<div>\n",
       "<style scoped>\n",
       "    .dataframe tbody tr th:only-of-type {\n",
       "        vertical-align: middle;\n",
       "    }\n",
       "\n",
       "    .dataframe tbody tr th {\n",
       "        vertical-align: top;\n",
       "    }\n",
       "\n",
       "    .dataframe thead th {\n",
       "        text-align: right;\n",
       "    }\n",
       "</style>\n",
       "<table border=\"1\" class=\"dataframe\">\n",
       "  <thead>\n",
       "    <tr style=\"text-align: right;\">\n",
       "      <th></th>\n",
       "      <th>Item_Weight</th>\n",
       "      <th>Item_Visibility</th>\n",
       "      <th>Item_MRP</th>\n",
       "      <th>Outlet_Establishment_Year</th>\n",
       "      <th>Item_Outlet_Sales</th>\n",
       "    </tr>\n",
       "  </thead>\n",
       "  <tbody>\n",
       "    <tr>\n",
       "      <th>count</th>\n",
       "      <td>7060.000000</td>\n",
       "      <td>8523.000000</td>\n",
       "      <td>8523.000000</td>\n",
       "      <td>8523.000000</td>\n",
       "      <td>8523.000000</td>\n",
       "    </tr>\n",
       "    <tr>\n",
       "      <th>mean</th>\n",
       "      <td>12.857645</td>\n",
       "      <td>0.066132</td>\n",
       "      <td>140.992782</td>\n",
       "      <td>1997.831867</td>\n",
       "      <td>2181.288914</td>\n",
       "    </tr>\n",
       "    <tr>\n",
       "      <th>std</th>\n",
       "      <td>4.643456</td>\n",
       "      <td>0.051598</td>\n",
       "      <td>62.275067</td>\n",
       "      <td>8.371760</td>\n",
       "      <td>1706.499616</td>\n",
       "    </tr>\n",
       "    <tr>\n",
       "      <th>min</th>\n",
       "      <td>4.555000</td>\n",
       "      <td>0.000000</td>\n",
       "      <td>31.290000</td>\n",
       "      <td>1985.000000</td>\n",
       "      <td>33.290000</td>\n",
       "    </tr>\n",
       "    <tr>\n",
       "      <th>25%</th>\n",
       "      <td>8.773750</td>\n",
       "      <td>0.026989</td>\n",
       "      <td>93.826500</td>\n",
       "      <td>1987.000000</td>\n",
       "      <td>834.247400</td>\n",
       "    </tr>\n",
       "    <tr>\n",
       "      <th>50%</th>\n",
       "      <td>12.600000</td>\n",
       "      <td>0.053931</td>\n",
       "      <td>143.012800</td>\n",
       "      <td>1999.000000</td>\n",
       "      <td>1794.331000</td>\n",
       "    </tr>\n",
       "    <tr>\n",
       "      <th>75%</th>\n",
       "      <td>16.850000</td>\n",
       "      <td>0.094585</td>\n",
       "      <td>185.643700</td>\n",
       "      <td>2004.000000</td>\n",
       "      <td>3101.296400</td>\n",
       "    </tr>\n",
       "    <tr>\n",
       "      <th>max</th>\n",
       "      <td>21.350000</td>\n",
       "      <td>0.328391</td>\n",
       "      <td>266.888400</td>\n",
       "      <td>2009.000000</td>\n",
       "      <td>13086.964800</td>\n",
       "    </tr>\n",
       "  </tbody>\n",
       "</table>\n",
       "</div>"
      ],
      "text/plain": [
       "       Item_Weight  Item_Visibility     Item_MRP  Outlet_Establishment_Year  \\\n",
       "count  7060.000000      8523.000000  8523.000000                8523.000000   \n",
       "mean     12.857645         0.066132   140.992782                1997.831867   \n",
       "std       4.643456         0.051598    62.275067                   8.371760   \n",
       "min       4.555000         0.000000    31.290000                1985.000000   \n",
       "25%       8.773750         0.026989    93.826500                1987.000000   \n",
       "50%      12.600000         0.053931   143.012800                1999.000000   \n",
       "75%      16.850000         0.094585   185.643700                2004.000000   \n",
       "max      21.350000         0.328391   266.888400                2009.000000   \n",
       "\n",
       "       Item_Outlet_Sales  \n",
       "count        8523.000000  \n",
       "mean         2181.288914  \n",
       "std          1706.499616  \n",
       "min            33.290000  \n",
       "25%           834.247400  \n",
       "50%          1794.331000  \n",
       "75%          3101.296400  \n",
       "max         13086.964800  "
      ]
     },
     "execution_count": 6,
     "metadata": {},
     "output_type": "execute_result"
    }
   ],
   "source": [
    "train.describe()"
   ]
  },
  {
   "cell_type": "code",
   "execution_count": 7,
   "metadata": {
    "execution": {
     "iopub.execute_input": "2023-07-10T08:32:35.774237Z",
     "iopub.status.busy": "2023-07-10T08:32:35.773719Z",
     "iopub.status.idle": "2023-07-10T08:32:36.631345Z",
     "shell.execute_reply": "2023-07-10T08:32:36.630055Z",
     "shell.execute_reply.started": "2023-07-10T08:32:35.774164Z"
    }
   },
   "outputs": [
    {
     "data": {
      "image/png": "[encoded data removed]",
      "text/plain": [
       "<Figure size 640x480 with 1 Axes>"
      ]
     },
     "metadata": {},
     "output_type": "display_data"
    },
    {
     "data": {
      "image/png": "[encoded data removed]",
      "text/plain": [
       "<Figure size 640x480 with 1 Axes>"
      ]
     },
     "metadata": {},
     "output_type": "display_data"
    },
    {
     "data": {
      "image/png": "[encoded data removed]",
      "text/plain": [
       "<Figure size 640x480 with 1 Axes>"
      ]
     },
     "metadata": {},
     "output_type": "display_data"
    },
    {
     "data": {
      "image/png": "[encoded data removed]",
      "text/plain": [
       "<Figure size 640x480 with 1 Axes>"
      ]
     },
     "metadata": {},
     "output_type": "display_data"
    },
    {
     "data": {
      "image/png": "[encoded data removed]",
      "text/plain": [
       "<Figure size 640x480 with 1 Axes>"
      ]
     },
     "metadata": {},
     "output_type": "display_data"
    }
   ],
   "source": [
    "for i in train.select_dtypes(exclude='object'):\n",
    "    sns.boxplot(y=train[i])\n",
    "    plt.show()"
   ]
  },
  {
   "cell_type": "code",
   "execution_count": 8,
   "metadata": {
    "execution": {
     "iopub.execute_input": "2023-07-10T08:32:36.633576Z",
     "iopub.status.busy": "2023-07-10T08:32:36.633150Z",
     "iopub.status.idle": "2023-07-10T08:32:37.052917Z",
     "shell.execute_reply": "2023-07-10T08:32:37.051061Z",
     "shell.execute_reply.started": "2023-07-10T08:32:36.633534Z"
    }
   },
   "outputs": [
    {
     "data": {
      "text/plain": [
       "<AxesSubplot:xlabel='Item_Outlet_Sales', ylabel='Count'>"
      ]
     },
     "execution_count": 8,
     "metadata": {},
     "output_type": "execute_result"
    },
    {
     "data": {
      "image/png": "[encoded data removed]",
      "text/plain": [
       "<Figure size 640x480 with 1 Axes>"
      ]
     },
     "metadata": {},
     "output_type": "display_data"
    }
   ],
   "source": [
    "sns.histplot(train['Item_Outlet_Sales'], kde=True, color=\"red\",)"
   ]
  },
  {
   "cell_type": "code",
   "execution_count": null,
   "metadata": {},
   "outputs": [],
   "source": []
  },
  {
   "cell_type": "code",
   "execution_count": 9,
   "metadata": {
    "execution": {
     "iopub.execute_input": "2023-07-10T08:32:37.056313Z",
     "iopub.status.busy": "2023-07-10T08:32:37.055158Z",
     "iopub.status.idle": "2023-07-10T08:32:37.099953Z",
     "shell.execute_reply": "2023-07-10T08:32:37.098697Z",
     "shell.execute_reply.started": "2023-07-10T08:32:37.056265Z"
    }
   },
   "outputs": [
    {
     "data": {
      "text/html": [
       "<div>\n",
       "<style scoped>\n",
       "    .dataframe tbody tr th:only-of-type {\n",
       "        vertical-align: middle;\n",
       "    }\n",
       "\n",
       "    .dataframe tbody tr th {\n",
       "        vertical-align: top;\n",
       "    }\n",
       "\n",
       "    .dataframe thead th {\n",
       "        text-align: right;\n",
       "    }\n",
       "</style>\n",
       "<table border=\"1\" class=\"dataframe\">\n",
       "  <thead>\n",
       "    <tr style=\"text-align: right;\">\n",
       "      <th></th>\n",
       "      <th>Item_Identifier</th>\n",
       "      <th>Item_Fat_Content</th>\n",
       "      <th>Item_Type</th>\n",
       "      <th>Outlet_Identifier</th>\n",
       "      <th>Outlet_Size</th>\n",
       "      <th>Outlet_Location_Type</th>\n",
       "      <th>Outlet_Type</th>\n",
       "    </tr>\n",
       "  </thead>\n",
       "  <tbody>\n",
       "    <tr>\n",
       "      <th>count</th>\n",
       "      <td>8523</td>\n",
       "      <td>8523</td>\n",
       "      <td>8523</td>\n",
       "      <td>8523</td>\n",
       "      <td>6113</td>\n",
       "      <td>8523</td>\n",
       "      <td>8523</td>\n",
       "    </tr>\n",
       "    <tr>\n",
       "      <th>unique</th>\n",
       "      <td>1559</td>\n",
       "      <td>5</td>\n",
       "      <td>16</td>\n",
       "      <td>10</td>\n",
       "      <td>3</td>\n",
       "      <td>3</td>\n",
       "      <td>4</td>\n",
       "    </tr>\n",
       "    <tr>\n",
       "      <th>top</th>\n",
       "      <td>FDW13</td>\n",
       "      <td>Low Fat</td>\n",
       "      <td>Fruits and Vegetables</td>\n",
       "      <td>OUT027</td>\n",
       "      <td>Medium</td>\n",
       "      <td>Tier 3</td>\n",
       "      <td>Supermarket Type1</td>\n",
       "    </tr>\n",
       "    <tr>\n",
       "      <th>freq</th>\n",
       "      <td>10</td>\n",
       "      <td>5089</td>\n",
       "      <td>1232</td>\n",
       "      <td>935</td>\n",
       "      <td>2793</td>\n",
       "      <td>3350</td>\n",
       "      <td>5577</td>\n",
       "    </tr>\n",
       "  </tbody>\n",
       "</table>\n",
       "</div>"
      ],
      "text/plain": [
       "       Item_Identifier Item_Fat_Content              Item_Type  \\\n",
       "count             8523             8523                   8523   \n",
       "unique            1559                5                     16   \n",
       "top              FDW13          Low Fat  Fruits and Vegetables   \n",
       "freq                10             5089                   1232   \n",
       "\n",
       "       Outlet_Identifier Outlet_Size Outlet_Location_Type        Outlet_Type  \n",
       "count               8523        6113                 8523               8523  \n",
       "unique                10           3                    3                  4  \n",
       "top               OUT027      Medium               Tier 3  Supermarket Type1  \n",
       "freq                 935        2793                 3350               5577  "
      ]
     },
     "execution_count": 9,
     "metadata": {},
     "output_type": "execute_result"
    }
   ],
   "source": [
    "train.describe(include='O')"
   ]
  },
  {
   "cell_type": "markdown",
   "metadata": {},
   "source": [
    "#### Insights\n",
    "\n",
    "- there are outliers in [\"item_visibility\", \"Sales\"]\n",
    "- missing values in 2 columns only ['Item_Weight' ,'Outlet_Size']\n",
    "- there are right skewness in the sales ditribution \n",
    "- \"Item_Visibility\" has minimum value 0, which cannot be true because the visibility has to be more than 0"
   ]
  },
  {
   "cell_type": "markdown",
   "metadata": {},
   "source": [
    "#  Data Cleansing\n"
   ]
  },
  {
   "cell_type": "code",
   "execution_count": 10,
   "metadata": {
    "execution": {
     "iopub.execute_input": "2023-07-10T08:32:37.104982Z",
     "iopub.status.busy": "2023-07-10T08:32:37.104197Z",
     "iopub.status.idle": "2023-07-10T08:32:37.134753Z",
     "shell.execute_reply": "2023-07-10T08:32:37.133066Z",
     "shell.execute_reply.started": "2023-07-10T08:32:37.104928Z"
    }
   },
   "outputs": [
    {
     "name": "stdout",
     "output_type": "stream",
     "text": [
      "False    8523\n",
      "dtype: int64\n",
      "False    5681\n",
      "dtype: int64\n"
     ]
    }
   ],
   "source": [
    "#chcking duplicates\n",
    "print(train.duplicated().value_counts())\n",
    "print(test.duplicated().value_counts())"
   ]
  },
  {
   "cell_type": "code",
   "execution_count": 11,
   "metadata": {
    "execution": {
     "iopub.execute_input": "2023-07-10T08:32:37.139796Z",
     "iopub.status.busy": "2023-07-10T08:32:37.136955Z",
     "iopub.status.idle": "2023-07-10T08:32:37.176864Z",
     "shell.execute_reply": "2023-07-10T08:32:37.175391Z",
     "shell.execute_reply.started": "2023-07-10T08:32:37.139727Z"
    },
    "scrolled": true
   },
   "outputs": [
    {
     "data": {
      "text/html": [
       "<div>\n",
       "<style scoped>\n",
       "    .dataframe tbody tr th:only-of-type {\n",
       "        vertical-align: middle;\n",
       "    }\n",
       "\n",
       "    .dataframe tbody tr th {\n",
       "        vertical-align: top;\n",
       "    }\n",
       "\n",
       "    .dataframe thead th {\n",
       "        text-align: right;\n",
       "    }\n",
       "</style>\n",
       "<table border=\"1\" class=\"dataframe\">\n",
       "  <thead>\n",
       "    <tr style=\"text-align: right;\">\n",
       "      <th></th>\n",
       "      <th>Item_Identifier</th>\n",
       "      <th>Item_Weight</th>\n",
       "      <th>Item_Fat_Content</th>\n",
       "      <th>Item_Visibility</th>\n",
       "      <th>Item_Type</th>\n",
       "      <th>Item_MRP</th>\n",
       "      <th>Outlet_Identifier</th>\n",
       "      <th>Outlet_Establishment_Year</th>\n",
       "      <th>Outlet_Size</th>\n",
       "      <th>Outlet_Location_Type</th>\n",
       "      <th>Outlet_Type</th>\n",
       "      <th>Item_Outlet_Sales</th>\n",
       "    </tr>\n",
       "  </thead>\n",
       "  <tbody>\n",
       "    <tr>\n",
       "      <th>3</th>\n",
       "      <td>FDX07</td>\n",
       "      <td>19.200</td>\n",
       "      <td>Regular</td>\n",
       "      <td>0.000000</td>\n",
       "      <td>Fruits and Vegetables</td>\n",
       "      <td>182.0950</td>\n",
       "      <td>OUT010</td>\n",
       "      <td>1998</td>\n",
       "      <td>NaN</td>\n",
       "      <td>Tier 3</td>\n",
       "      <td>Grocery Store</td>\n",
       "      <td>732.3800</td>\n",
       "    </tr>\n",
       "    <tr>\n",
       "      <th>8</th>\n",
       "      <td>FDH17</td>\n",
       "      <td>16.200</td>\n",
       "      <td>Regular</td>\n",
       "      <td>0.016687</td>\n",
       "      <td>Frozen Foods</td>\n",
       "      <td>96.9726</td>\n",
       "      <td>OUT045</td>\n",
       "      <td>2002</td>\n",
       "      <td>NaN</td>\n",
       "      <td>Tier 2</td>\n",
       "      <td>Supermarket Type1</td>\n",
       "      <td>1076.5986</td>\n",
       "    </tr>\n",
       "    <tr>\n",
       "      <th>9</th>\n",
       "      <td>FDU28</td>\n",
       "      <td>19.200</td>\n",
       "      <td>Regular</td>\n",
       "      <td>0.094450</td>\n",
       "      <td>Frozen Foods</td>\n",
       "      <td>187.8214</td>\n",
       "      <td>OUT017</td>\n",
       "      <td>2007</td>\n",
       "      <td>NaN</td>\n",
       "      <td>Tier 2</td>\n",
       "      <td>Supermarket Type1</td>\n",
       "      <td>4710.5350</td>\n",
       "    </tr>\n",
       "    <tr>\n",
       "      <th>25</th>\n",
       "      <td>NCD06</td>\n",
       "      <td>13.000</td>\n",
       "      <td>Low Fat</td>\n",
       "      <td>0.099887</td>\n",
       "      <td>Household</td>\n",
       "      <td>45.9060</td>\n",
       "      <td>OUT017</td>\n",
       "      <td>2007</td>\n",
       "      <td>NaN</td>\n",
       "      <td>Tier 2</td>\n",
       "      <td>Supermarket Type1</td>\n",
       "      <td>838.9080</td>\n",
       "    </tr>\n",
       "    <tr>\n",
       "      <th>28</th>\n",
       "      <td>FDE51</td>\n",
       "      <td>5.925</td>\n",
       "      <td>Regular</td>\n",
       "      <td>0.161467</td>\n",
       "      <td>Dairy</td>\n",
       "      <td>45.5086</td>\n",
       "      <td>OUT010</td>\n",
       "      <td>1998</td>\n",
       "      <td>NaN</td>\n",
       "      <td>Tier 3</td>\n",
       "      <td>Grocery Store</td>\n",
       "      <td>178.4344</td>\n",
       "    </tr>\n",
       "    <tr>\n",
       "      <th>...</th>\n",
       "      <td>...</td>\n",
       "      <td>...</td>\n",
       "      <td>...</td>\n",
       "      <td>...</td>\n",
       "      <td>...</td>\n",
       "      <td>...</td>\n",
       "      <td>...</td>\n",
       "      <td>...</td>\n",
       "      <td>...</td>\n",
       "      <td>...</td>\n",
       "      <td>...</td>\n",
       "      <td>...</td>\n",
       "    </tr>\n",
       "    <tr>\n",
       "      <th>8502</th>\n",
       "      <td>NCH43</td>\n",
       "      <td>8.420</td>\n",
       "      <td>Low Fat</td>\n",
       "      <td>0.070712</td>\n",
       "      <td>Household</td>\n",
       "      <td>216.4192</td>\n",
       "      <td>OUT045</td>\n",
       "      <td>2002</td>\n",
       "      <td>NaN</td>\n",
       "      <td>Tier 2</td>\n",
       "      <td>Supermarket Type1</td>\n",
       "      <td>3020.0688</td>\n",
       "    </tr>\n",
       "    <tr>\n",
       "      <th>8508</th>\n",
       "      <td>FDW31</td>\n",
       "      <td>11.350</td>\n",
       "      <td>Regular</td>\n",
       "      <td>0.043246</td>\n",
       "      <td>Fruits and Vegetables</td>\n",
       "      <td>199.4742</td>\n",
       "      <td>OUT045</td>\n",
       "      <td>2002</td>\n",
       "      <td>NaN</td>\n",
       "      <td>Tier 2</td>\n",
       "      <td>Supermarket Type1</td>\n",
       "      <td>2587.9646</td>\n",
       "    </tr>\n",
       "    <tr>\n",
       "      <th>8509</th>\n",
       "      <td>FDG45</td>\n",
       "      <td>8.100</td>\n",
       "      <td>Low Fat</td>\n",
       "      <td>0.214306</td>\n",
       "      <td>Fruits and Vegetables</td>\n",
       "      <td>213.9902</td>\n",
       "      <td>OUT010</td>\n",
       "      <td>1998</td>\n",
       "      <td>NaN</td>\n",
       "      <td>Tier 3</td>\n",
       "      <td>Grocery Store</td>\n",
       "      <td>424.7804</td>\n",
       "    </tr>\n",
       "    <tr>\n",
       "      <th>8514</th>\n",
       "      <td>FDA01</td>\n",
       "      <td>15.000</td>\n",
       "      <td>Regular</td>\n",
       "      <td>0.054489</td>\n",
       "      <td>Canned</td>\n",
       "      <td>57.5904</td>\n",
       "      <td>OUT045</td>\n",
       "      <td>2002</td>\n",
       "      <td>NaN</td>\n",
       "      <td>Tier 2</td>\n",
       "      <td>Supermarket Type1</td>\n",
       "      <td>468.7232</td>\n",
       "    </tr>\n",
       "    <tr>\n",
       "      <th>8519</th>\n",
       "      <td>FDS36</td>\n",
       "      <td>8.380</td>\n",
       "      <td>Regular</td>\n",
       "      <td>0.046982</td>\n",
       "      <td>Baking Goods</td>\n",
       "      <td>108.1570</td>\n",
       "      <td>OUT045</td>\n",
       "      <td>2002</td>\n",
       "      <td>NaN</td>\n",
       "      <td>Tier 2</td>\n",
       "      <td>Supermarket Type1</td>\n",
       "      <td>549.2850</td>\n",
       "    </tr>\n",
       "  </tbody>\n",
       "</table>\n",
       "<p>2410 rows × 12 columns</p>\n",
       "</div>"
      ],
      "text/plain": [
       "     Item_Identifier  Item_Weight Item_Fat_Content  Item_Visibility  \\\n",
       "3              FDX07       19.200          Regular         0.000000   \n",
       "8              FDH17       16.200          Regular         0.016687   \n",
       "9              FDU28       19.200          Regular         0.094450   \n",
       "25             NCD06       13.000          Low Fat         0.099887   \n",
       "28             FDE51        5.925          Regular         0.161467   \n",
       "...              ...          ...              ...              ...   \n",
       "8502           NCH43        8.420          Low Fat         0.070712   \n",
       "8508           FDW31       11.350          Regular         0.043246   \n",
       "8509           FDG45        8.100          Low Fat         0.214306   \n",
       "8514           FDA01       15.000          Regular         0.054489   \n",
       "8519           FDS36        8.380          Regular         0.046982   \n",
       "\n",
       "                  Item_Type  Item_MRP Outlet_Identifier  \\\n",
       "3     Fruits and Vegetables  182.0950            OUT010   \n",
       "8              Frozen Foods   96.9726            OUT045   \n",
       "9              Frozen Foods  187.8214            OUT017   \n",
       "25                Household   45.9060            OUT017   \n",
       "28                    Dairy   45.5086            OUT010   \n",
       "...                     ...       ...               ...   \n",
       "8502              Household  216.4192            OUT045   \n",
       "8508  Fruits and Vegetables  199.4742            OUT045   \n",
       "8509  Fruits and Vegetables  213.9902            OUT010   \n",
       "8514                 Canned   57.5904            OUT045   \n",
       "8519           Baking Goods  108.1570            OUT045   \n",
       "\n",
       "      Outlet_Establishment_Year Outlet_Size Outlet_Location_Type  \\\n",
       "3                          1998         NaN               Tier 3   \n",
       "8                          2002         NaN               Tier 2   \n",
       "9                          2007         NaN               Tier 2   \n",
       "25                         2007         NaN               Tier 2   \n",
       "28                         1998         NaN               Tier 3   \n",
       "...                         ...         ...                  ...   \n",
       "8502                       2002         NaN               Tier 2   \n",
       "8508                       2002         NaN               Tier 2   \n",
       "8509                       1998         NaN               Tier 3   \n",
       "8514                       2002         NaN               Tier 2   \n",
       "8519                       2002         NaN               Tier 2   \n",
       "\n",
       "            Outlet_Type  Item_Outlet_Sales  \n",
       "3         Grocery Store           732.3800  \n",
       "8     Supermarket Type1          1076.5986  \n",
       "9     Supermarket Type1          4710.5350  \n",
       "25    Supermarket Type1           838.9080  \n",
       "28        Grocery Store           178.4344  \n",
       "...                 ...                ...  \n",
       "8502  Supermarket Type1          3020.0688  \n",
       "8508  Supermarket Type1          2587.9646  \n",
       "8509      Grocery Store           424.7804  \n",
       "8514  Supermarket Type1           468.7232  \n",
       "8519  Supermarket Type1           549.2850  \n",
       "\n",
       "[2410 rows x 12 columns]"
      ]
     },
     "execution_count": 11,
     "metadata": {},
     "output_type": "execute_result"
    }
   ],
   "source": [
    "#check the null values in \"outlet_size\"\n",
    "train[train[\"Outlet_Size\"].isnull() ==True]"
   ]
  },
  {
   "cell_type": "markdown",
   "metadata": {},
   "source": [
    "#### checking values related to \"outlet\", trying to extract the missed values "
   ]
  },
  {
   "cell_type": "code",
   "execution_count": 12,
   "metadata": {
    "execution": {
     "iopub.execute_input": "2023-07-10T08:32:37.178916Z",
     "iopub.status.busy": "2023-07-10T08:32:37.178555Z",
     "iopub.status.idle": "2023-07-10T08:32:37.192398Z",
     "shell.execute_reply": "2023-07-10T08:32:37.190682Z",
     "shell.execute_reply.started": "2023-07-10T08:32:37.178880Z"
    }
   },
   "outputs": [
    {
     "data": {
      "text/plain": [
       "Tier 2    1855\n",
       "Tier 3     555\n",
       "Name: Outlet_Location_Type, dtype: int64"
      ]
     },
     "execution_count": 12,
     "metadata": {},
     "output_type": "execute_result"
    }
   ],
   "source": [
    "train[train[\"Outlet_Size\"].isnull() ==True]['Outlet_Location_Type'].value_counts()"
   ]
  },
  {
   "cell_type": "code",
   "execution_count": 13,
   "metadata": {
    "execution": {
     "iopub.execute_input": "2023-07-10T08:32:37.194885Z",
     "iopub.status.busy": "2023-07-10T08:32:37.194440Z",
     "iopub.status.idle": "2023-07-10T08:32:37.213649Z",
     "shell.execute_reply": "2023-07-10T08:32:37.211485Z",
     "shell.execute_reply.started": "2023-07-10T08:32:37.194845Z"
    }
   },
   "outputs": [
    {
     "data": {
      "text/plain": [
       "OUT045    929\n",
       "OUT017    926\n",
       "OUT010    555\n",
       "Name: Outlet_Identifier, dtype: int64"
      ]
     },
     "execution_count": 13,
     "metadata": {},
     "output_type": "execute_result"
    }
   ],
   "source": [
    "train[train[\"Outlet_Size\"].isnull() ==True]['Outlet_Identifier'].value_counts()"
   ]
  },
  {
   "cell_type": "code",
   "execution_count": 14,
   "metadata": {
    "execution": {
     "iopub.execute_input": "2023-07-10T08:32:37.216425Z",
     "iopub.status.busy": "2023-07-10T08:32:37.215842Z",
     "iopub.status.idle": "2023-07-10T08:32:37.233329Z",
     "shell.execute_reply": "2023-07-10T08:32:37.231419Z",
     "shell.execute_reply.started": "2023-07-10T08:32:37.216350Z"
    }
   },
   "outputs": [
    {
     "data": {
      "text/plain": [
       "Supermarket Type1    1855\n",
       "Grocery Store         555\n",
       "Name: Outlet_Type, dtype: int64"
      ]
     },
     "execution_count": 14,
     "metadata": {},
     "output_type": "execute_result"
    }
   ],
   "source": [
    "train[train[\"Outlet_Size\"].isnull() ==True]['Outlet_Type'].value_counts()"
   ]
  },
  {
   "cell_type": "markdown",
   "metadata": {},
   "source": [
    "#### - from the above analysis, it's clearly that ['OUT045', 'OUT017'] are both >> Tier 2 and Supermarket type 1\n",
    "### and \n",
    "#### -  ['OUT010'] is >> Tier3 and Grocery Store \n",
    "\n",
    "### so we are going to search about the value of \"Outlet_Size\" that oftten shown with these 2 values in both of the listed above cases"
   ]
  },
  {
   "cell_type": "code",
   "execution_count": 15,
   "metadata": {
    "execution": {
     "iopub.execute_input": "2023-07-10T08:32:37.236084Z",
     "iopub.status.busy": "2023-07-10T08:32:37.235616Z",
     "iopub.status.idle": "2023-07-10T08:32:37.254473Z",
     "shell.execute_reply": "2023-07-10T08:32:37.253016Z",
     "shell.execute_reply.started": "2023-07-10T08:32:37.236040Z"
    }
   },
   "outputs": [
    {
     "data": {
      "text/plain": [
       "Small    930\n",
       "Name: Outlet_Size, dtype: int64"
      ]
     },
     "execution_count": 15,
     "metadata": {},
     "output_type": "execute_result"
    }
   ],
   "source": [
    "## for both ['OUT045', 'OUT017']\n",
    "train[(train[\"Outlet_Location_Type\"] ==\"Tier 2\" ) & (train[\"Outlet_Type\"] ==\"Supermarket Type1\")]['Outlet_Size'].value_counts()"
   ]
  },
  {
   "cell_type": "code",
   "execution_count": 16,
   "metadata": {
    "execution": {
     "iopub.execute_input": "2023-07-10T08:32:37.257116Z",
     "iopub.status.busy": "2023-07-10T08:32:37.256629Z",
     "iopub.status.idle": "2023-07-10T08:32:37.300291Z",
     "shell.execute_reply": "2023-07-10T08:32:37.298888Z",
     "shell.execute_reply.started": "2023-07-10T08:32:37.257064Z"
    }
   },
   "outputs": [
    {
     "data": {
      "text/html": [
       "<div>\n",
       "<style scoped>\n",
       "    .dataframe tbody tr th:only-of-type {\n",
       "        vertical-align: middle;\n",
       "    }\n",
       "\n",
       "    .dataframe tbody tr th {\n",
       "        vertical-align: top;\n",
       "    }\n",
       "\n",
       "    .dataframe thead th {\n",
       "        text-align: right;\n",
       "    }\n",
       "</style>\n",
       "<table border=\"1\" class=\"dataframe\">\n",
       "  <thead>\n",
       "    <tr style=\"text-align: right;\">\n",
       "      <th></th>\n",
       "      <th>Item_Identifier</th>\n",
       "      <th>Item_Weight</th>\n",
       "      <th>Item_Fat_Content</th>\n",
       "      <th>Item_Visibility</th>\n",
       "      <th>Item_Type</th>\n",
       "      <th>Item_MRP</th>\n",
       "      <th>Outlet_Identifier</th>\n",
       "      <th>Outlet_Establishment_Year</th>\n",
       "      <th>Outlet_Size</th>\n",
       "      <th>Outlet_Location_Type</th>\n",
       "      <th>Outlet_Type</th>\n",
       "      <th>Item_Outlet_Sales</th>\n",
       "    </tr>\n",
       "  </thead>\n",
       "  <tbody>\n",
       "    <tr>\n",
       "      <th>3</th>\n",
       "      <td>FDX07</td>\n",
       "      <td>19.200</td>\n",
       "      <td>Regular</td>\n",
       "      <td>0.000000</td>\n",
       "      <td>Fruits and Vegetables</td>\n",
       "      <td>182.0950</td>\n",
       "      <td>OUT010</td>\n",
       "      <td>1998</td>\n",
       "      <td>NaN</td>\n",
       "      <td>Tier 3</td>\n",
       "      <td>Grocery Store</td>\n",
       "      <td>732.3800</td>\n",
       "    </tr>\n",
       "    <tr>\n",
       "      <th>8</th>\n",
       "      <td>FDH17</td>\n",
       "      <td>16.200</td>\n",
       "      <td>Regular</td>\n",
       "      <td>0.016687</td>\n",
       "      <td>Frozen Foods</td>\n",
       "      <td>96.9726</td>\n",
       "      <td>OUT045</td>\n",
       "      <td>2002</td>\n",
       "      <td>NaN</td>\n",
       "      <td>Tier 2</td>\n",
       "      <td>Supermarket Type1</td>\n",
       "      <td>1076.5986</td>\n",
       "    </tr>\n",
       "    <tr>\n",
       "      <th>9</th>\n",
       "      <td>FDU28</td>\n",
       "      <td>19.200</td>\n",
       "      <td>Regular</td>\n",
       "      <td>0.094450</td>\n",
       "      <td>Frozen Foods</td>\n",
       "      <td>187.8214</td>\n",
       "      <td>OUT017</td>\n",
       "      <td>2007</td>\n",
       "      <td>NaN</td>\n",
       "      <td>Tier 2</td>\n",
       "      <td>Supermarket Type1</td>\n",
       "      <td>4710.5350</td>\n",
       "    </tr>\n",
       "    <tr>\n",
       "      <th>25</th>\n",
       "      <td>NCD06</td>\n",
       "      <td>13.000</td>\n",
       "      <td>Low Fat</td>\n",
       "      <td>0.099887</td>\n",
       "      <td>Household</td>\n",
       "      <td>45.9060</td>\n",
       "      <td>OUT017</td>\n",
       "      <td>2007</td>\n",
       "      <td>NaN</td>\n",
       "      <td>Tier 2</td>\n",
       "      <td>Supermarket Type1</td>\n",
       "      <td>838.9080</td>\n",
       "    </tr>\n",
       "    <tr>\n",
       "      <th>28</th>\n",
       "      <td>FDE51</td>\n",
       "      <td>5.925</td>\n",
       "      <td>Regular</td>\n",
       "      <td>0.161467</td>\n",
       "      <td>Dairy</td>\n",
       "      <td>45.5086</td>\n",
       "      <td>OUT010</td>\n",
       "      <td>1998</td>\n",
       "      <td>NaN</td>\n",
       "      <td>Tier 3</td>\n",
       "      <td>Grocery Store</td>\n",
       "      <td>178.4344</td>\n",
       "    </tr>\n",
       "    <tr>\n",
       "      <th>...</th>\n",
       "      <td>...</td>\n",
       "      <td>...</td>\n",
       "      <td>...</td>\n",
       "      <td>...</td>\n",
       "      <td>...</td>\n",
       "      <td>...</td>\n",
       "      <td>...</td>\n",
       "      <td>...</td>\n",
       "      <td>...</td>\n",
       "      <td>...</td>\n",
       "      <td>...</td>\n",
       "      <td>...</td>\n",
       "    </tr>\n",
       "    <tr>\n",
       "      <th>8502</th>\n",
       "      <td>NCH43</td>\n",
       "      <td>8.420</td>\n",
       "      <td>Low Fat</td>\n",
       "      <td>0.070712</td>\n",
       "      <td>Household</td>\n",
       "      <td>216.4192</td>\n",
       "      <td>OUT045</td>\n",
       "      <td>2002</td>\n",
       "      <td>NaN</td>\n",
       "      <td>Tier 2</td>\n",
       "      <td>Supermarket Type1</td>\n",
       "      <td>3020.0688</td>\n",
       "    </tr>\n",
       "    <tr>\n",
       "      <th>8508</th>\n",
       "      <td>FDW31</td>\n",
       "      <td>11.350</td>\n",
       "      <td>Regular</td>\n",
       "      <td>0.043246</td>\n",
       "      <td>Fruits and Vegetables</td>\n",
       "      <td>199.4742</td>\n",
       "      <td>OUT045</td>\n",
       "      <td>2002</td>\n",
       "      <td>NaN</td>\n",
       "      <td>Tier 2</td>\n",
       "      <td>Supermarket Type1</td>\n",
       "      <td>2587.9646</td>\n",
       "    </tr>\n",
       "    <tr>\n",
       "      <th>8509</th>\n",
       "      <td>FDG45</td>\n",
       "      <td>8.100</td>\n",
       "      <td>Low Fat</td>\n",
       "      <td>0.214306</td>\n",
       "      <td>Fruits and Vegetables</td>\n",
       "      <td>213.9902</td>\n",
       "      <td>OUT010</td>\n",
       "      <td>1998</td>\n",
       "      <td>NaN</td>\n",
       "      <td>Tier 3</td>\n",
       "      <td>Grocery Store</td>\n",
       "      <td>424.7804</td>\n",
       "    </tr>\n",
       "    <tr>\n",
       "      <th>8514</th>\n",
       "      <td>FDA01</td>\n",
       "      <td>15.000</td>\n",
       "      <td>Regular</td>\n",
       "      <td>0.054489</td>\n",
       "      <td>Canned</td>\n",
       "      <td>57.5904</td>\n",
       "      <td>OUT045</td>\n",
       "      <td>2002</td>\n",
       "      <td>NaN</td>\n",
       "      <td>Tier 2</td>\n",
       "      <td>Supermarket Type1</td>\n",
       "      <td>468.7232</td>\n",
       "    </tr>\n",
       "    <tr>\n",
       "      <th>8519</th>\n",
       "      <td>FDS36</td>\n",
       "      <td>8.380</td>\n",
       "      <td>Regular</td>\n",
       "      <td>0.046982</td>\n",
       "      <td>Baking Goods</td>\n",
       "      <td>108.1570</td>\n",
       "      <td>OUT045</td>\n",
       "      <td>2002</td>\n",
       "      <td>NaN</td>\n",
       "      <td>Tier 2</td>\n",
       "      <td>Supermarket Type1</td>\n",
       "      <td>549.2850</td>\n",
       "    </tr>\n",
       "  </tbody>\n",
       "</table>\n",
       "<p>2410 rows × 12 columns</p>\n",
       "</div>"
      ],
      "text/plain": [
       "     Item_Identifier  Item_Weight Item_Fat_Content  Item_Visibility  \\\n",
       "3              FDX07       19.200          Regular         0.000000   \n",
       "8              FDH17       16.200          Regular         0.016687   \n",
       "9              FDU28       19.200          Regular         0.094450   \n",
       "25             NCD06       13.000          Low Fat         0.099887   \n",
       "28             FDE51        5.925          Regular         0.161467   \n",
       "...              ...          ...              ...              ...   \n",
       "8502           NCH43        8.420          Low Fat         0.070712   \n",
       "8508           FDW31       11.350          Regular         0.043246   \n",
       "8509           FDG45        8.100          Low Fat         0.214306   \n",
       "8514           FDA01       15.000          Regular         0.054489   \n",
       "8519           FDS36        8.380          Regular         0.046982   \n",
       "\n",
       "                  Item_Type  Item_MRP Outlet_Identifier  \\\n",
       "3     Fruits and Vegetables  182.0950            OUT010   \n",
       "8              Frozen Foods   96.9726            OUT045   \n",
       "9              Frozen Foods  187.8214            OUT017   \n",
       "25                Household   45.9060            OUT017   \n",
       "28                    Dairy   45.5086            OUT010   \n",
       "...                     ...       ...               ...   \n",
       "8502              Household  216.4192            OUT045   \n",
       "8508  Fruits and Vegetables  199.4742            OUT045   \n",
       "8509  Fruits and Vegetables  213.9902            OUT010   \n",
       "8514                 Canned   57.5904            OUT045   \n",
       "8519           Baking Goods  108.1570            OUT045   \n",
       "\n",
       "      Outlet_Establishment_Year Outlet_Size Outlet_Location_Type  \\\n",
       "3                          1998         NaN               Tier 3   \n",
       "8                          2002         NaN               Tier 2   \n",
       "9                          2007         NaN               Tier 2   \n",
       "25                         2007         NaN               Tier 2   \n",
       "28                         1998         NaN               Tier 3   \n",
       "...                         ...         ...                  ...   \n",
       "8502                       2002         NaN               Tier 2   \n",
       "8508                       2002         NaN               Tier 2   \n",
       "8509                       1998         NaN               Tier 3   \n",
       "8514                       2002         NaN               Tier 2   \n",
       "8519                       2002         NaN               Tier 2   \n",
       "\n",
       "            Outlet_Type  Item_Outlet_Sales  \n",
       "3         Grocery Store           732.3800  \n",
       "8     Supermarket Type1          1076.5986  \n",
       "9     Supermarket Type1          4710.5350  \n",
       "25    Supermarket Type1           838.9080  \n",
       "28        Grocery Store           178.4344  \n",
       "...                 ...                ...  \n",
       "8502  Supermarket Type1          3020.0688  \n",
       "8508  Supermarket Type1          2587.9646  \n",
       "8509      Grocery Store           424.7804  \n",
       "8514  Supermarket Type1           468.7232  \n",
       "8519  Supermarket Type1           549.2850  \n",
       "\n",
       "[2410 rows x 12 columns]"
      ]
     },
     "execution_count": 16,
     "metadata": {},
     "output_type": "execute_result"
    }
   ],
   "source": [
    "train[(train['Outlet_Size'].isnull() ==True)]"
   ]
  },
  {
   "cell_type": "code",
   "execution_count": 17,
   "metadata": {
    "execution": {
     "iopub.execute_input": "2023-07-10T08:32:37.303155Z",
     "iopub.status.busy": "2023-07-10T08:32:37.302466Z",
     "iopub.status.idle": "2023-07-10T08:32:37.320601Z",
     "shell.execute_reply": "2023-07-10T08:32:37.319270Z",
     "shell.execute_reply.started": "2023-07-10T08:32:37.303080Z"
    }
   },
   "outputs": [
    {
     "data": {
      "text/plain": [
       "Series([], Name: Outlet_Size, dtype: int64)"
      ]
     },
     "execution_count": 17,
     "metadata": {},
     "output_type": "execute_result"
    }
   ],
   "source": [
    "## so for ['OUT010']\n",
    "train[(train[\"Outlet_Location_Type\"] ==\"Tier 3\" ) & (train[\"Outlet_Type\"] ==\"Grocery Store\")]['Outlet_Size'].value_counts()\n",
    "\n",
    "## there are no values have the both loctaion_type and type of the outlet so we should find any other column refer to it\n",
    "\n"
   ]
  },
  {
   "cell_type": "code",
   "execution_count": 18,
   "metadata": {
    "execution": {
     "iopub.execute_input": "2023-07-10T08:32:37.322809Z",
     "iopub.status.busy": "2023-07-10T08:32:37.322293Z",
     "iopub.status.idle": "2023-07-10T08:32:37.338720Z",
     "shell.execute_reply": "2023-07-10T08:32:37.337064Z",
     "shell.execute_reply.started": "2023-07-10T08:32:37.322748Z"
    }
   },
   "outputs": [
    {
     "data": {
      "text/plain": [
       "Small    528\n",
       "Name: Outlet_Size, dtype: int64"
      ]
     },
     "execution_count": 18,
     "metadata": {},
     "output_type": "execute_result"
    }
   ],
   "source": [
    "train[train[\"Outlet_Type\"] == \"Grocery Store\"]['Outlet_Size'].value_counts()"
   ]
  },
  {
   "cell_type": "code",
   "execution_count": 19,
   "metadata": {
    "execution": {
     "iopub.execute_input": "2023-07-10T08:32:37.341854Z",
     "iopub.status.busy": "2023-07-10T08:32:37.341279Z",
     "iopub.status.idle": "2023-07-10T08:32:37.354790Z",
     "shell.execute_reply": "2023-07-10T08:32:37.353654Z",
     "shell.execute_reply.started": "2023-07-10T08:32:37.341800Z"
    }
   },
   "outputs": [
    {
     "data": {
      "text/plain": [
       "Medium    1863\n",
       "High       932\n",
       "Name: Outlet_Size, dtype: int64"
      ]
     },
     "execution_count": 19,
     "metadata": {},
     "output_type": "execute_result"
    }
   ],
   "source": [
    "train[(train['Outlet_Location_Type'] == \"Tier 3\") ]['Outlet_Size'].value_counts()"
   ]
  },
  {
   "cell_type": "markdown",
   "metadata": {},
   "source": [
    "#### based on the 2 previuos commands, it appears that every \"Grocery store\" in the dataframe is \"Small\" size \n",
    "#### however that, the size of \"Tier 3\" always medium or high\n",
    "> so i will assume that it's medium since it's the mode value before the last editing that we made on the previous nulls"
   ]
  },
  {
   "cell_type": "code",
   "execution_count": 20,
   "metadata": {
    "execution": {
     "iopub.execute_input": "2023-07-10T08:32:37.356881Z",
     "iopub.status.busy": "2023-07-10T08:32:37.356380Z",
     "iopub.status.idle": "2023-07-10T08:32:37.371130Z",
     "shell.execute_reply": "2023-07-10T08:32:37.369421Z",
     "shell.execute_reply.started": "2023-07-10T08:32:37.356745Z"
    }
   },
   "outputs": [],
   "source": [
    "#so \"Outlet_Size\" of ['OUT045', 'OUT017'] will be >> \"Small\"\n",
    "train.loc[(train['Outlet_Size'].isnull() ==True) &(train['Outlet_Identifier'] != 'OUT010'),\"Outlet_Size\"] = \"Small\"\n",
    "\n",
    "\n",
    "## for other outlets identifier they will be \"Medium\"\n",
    "train.loc[(train['Outlet_Size'].isnull() ==True) &(train['Outlet_Identifier'] == 'OUT010'),\"Outlet_Size\"] = \"Medium\""
   ]
  },
  {
   "cell_type": "markdown",
   "metadata": {},
   "source": [
    "- dealing with the null values in 'item weight'"
   ]
  },
  {
   "cell_type": "code",
   "execution_count": 21,
   "metadata": {
    "execution": {
     "iopub.execute_input": "2023-07-10T08:32:37.372541Z",
     "iopub.status.busy": "2023-07-10T08:32:37.372194Z",
     "iopub.status.idle": "2023-07-10T08:32:37.696867Z",
     "shell.execute_reply": "2023-07-10T08:32:37.695121Z",
     "shell.execute_reply.started": "2023-07-10T08:32:37.372507Z"
    }
   },
   "outputs": [
    {
     "data": {
      "text/plain": [
       "<AxesSubplot:xlabel='Item_Weight', ylabel='Count'>"
      ]
     },
     "execution_count": 21,
     "metadata": {},
     "output_type": "execute_result"
    },
    {
     "data": {
      "image/png": "[encoded data removed]",
      "text/plain": [
       "<Figure size 640x480 with 1 Axes>"
      ]
     },
     "metadata": {},
     "output_type": "display_data"
    }
   ],
   "source": [
    "sns.histplot(train['Item_Weight'],kde=True)"
   ]
  },
  {
   "cell_type": "code",
   "execution_count": 22,
   "metadata": {
    "execution": {
     "iopub.execute_input": "2023-07-10T08:32:37.700273Z",
     "iopub.status.busy": "2023-07-10T08:32:37.699582Z",
     "iopub.status.idle": "2023-07-10T08:32:37.735812Z",
     "shell.execute_reply": "2023-07-10T08:32:37.733949Z",
     "shell.execute_reply.started": "2023-07-10T08:32:37.700224Z"
    }
   },
   "outputs": [
    {
     "data": {
      "text/html": [
       "<div>\n",
       "<style scoped>\n",
       "    .dataframe tbody tr th:only-of-type {\n",
       "        vertical-align: middle;\n",
       "    }\n",
       "\n",
       "    .dataframe tbody tr th {\n",
       "        vertical-align: top;\n",
       "    }\n",
       "\n",
       "    .dataframe thead th {\n",
       "        text-align: right;\n",
       "    }\n",
       "</style>\n",
       "<table border=\"1\" class=\"dataframe\">\n",
       "  <thead>\n",
       "    <tr style=\"text-align: right;\">\n",
       "      <th></th>\n",
       "      <th>Item_Identifier</th>\n",
       "      <th>Item_Weight</th>\n",
       "      <th>Item_Fat_Content</th>\n",
       "      <th>Item_Visibility</th>\n",
       "      <th>Item_Type</th>\n",
       "      <th>Item_MRP</th>\n",
       "      <th>Outlet_Identifier</th>\n",
       "      <th>Outlet_Establishment_Year</th>\n",
       "      <th>Outlet_Size</th>\n",
       "      <th>Outlet_Location_Type</th>\n",
       "      <th>Outlet_Type</th>\n",
       "      <th>Item_Outlet_Sales</th>\n",
       "    </tr>\n",
       "  </thead>\n",
       "  <tbody>\n",
       "    <tr>\n",
       "      <th>7</th>\n",
       "      <td>FDP10</td>\n",
       "      <td>NaN</td>\n",
       "      <td>Low Fat</td>\n",
       "      <td>0.127470</td>\n",
       "      <td>Snack Foods</td>\n",
       "      <td>107.7622</td>\n",
       "      <td>OUT027</td>\n",
       "      <td>1985</td>\n",
       "      <td>Medium</td>\n",
       "      <td>Tier 3</td>\n",
       "      <td>Supermarket Type3</td>\n",
       "      <td>4022.7636</td>\n",
       "    </tr>\n",
       "    <tr>\n",
       "      <th>18</th>\n",
       "      <td>DRI11</td>\n",
       "      <td>NaN</td>\n",
       "      <td>Low Fat</td>\n",
       "      <td>0.034238</td>\n",
       "      <td>Hard Drinks</td>\n",
       "      <td>113.2834</td>\n",
       "      <td>OUT027</td>\n",
       "      <td>1985</td>\n",
       "      <td>Medium</td>\n",
       "      <td>Tier 3</td>\n",
       "      <td>Supermarket Type3</td>\n",
       "      <td>2303.6680</td>\n",
       "    </tr>\n",
       "    <tr>\n",
       "      <th>21</th>\n",
       "      <td>FDW12</td>\n",
       "      <td>NaN</td>\n",
       "      <td>Regular</td>\n",
       "      <td>0.035400</td>\n",
       "      <td>Baking Goods</td>\n",
       "      <td>144.5444</td>\n",
       "      <td>OUT027</td>\n",
       "      <td>1985</td>\n",
       "      <td>Medium</td>\n",
       "      <td>Tier 3</td>\n",
       "      <td>Supermarket Type3</td>\n",
       "      <td>4064.0432</td>\n",
       "    </tr>\n",
       "    <tr>\n",
       "      <th>23</th>\n",
       "      <td>FDC37</td>\n",
       "      <td>NaN</td>\n",
       "      <td>Low Fat</td>\n",
       "      <td>0.057557</td>\n",
       "      <td>Baking Goods</td>\n",
       "      <td>107.6938</td>\n",
       "      <td>OUT019</td>\n",
       "      <td>1985</td>\n",
       "      <td>Small</td>\n",
       "      <td>Tier 1</td>\n",
       "      <td>Grocery Store</td>\n",
       "      <td>214.3876</td>\n",
       "    </tr>\n",
       "    <tr>\n",
       "      <th>29</th>\n",
       "      <td>FDC14</td>\n",
       "      <td>NaN</td>\n",
       "      <td>Regular</td>\n",
       "      <td>0.072222</td>\n",
       "      <td>Canned</td>\n",
       "      <td>43.6454</td>\n",
       "      <td>OUT019</td>\n",
       "      <td>1985</td>\n",
       "      <td>Small</td>\n",
       "      <td>Tier 1</td>\n",
       "      <td>Grocery Store</td>\n",
       "      <td>125.8362</td>\n",
       "    </tr>\n",
       "    <tr>\n",
       "      <th>...</th>\n",
       "      <td>...</td>\n",
       "      <td>...</td>\n",
       "      <td>...</td>\n",
       "      <td>...</td>\n",
       "      <td>...</td>\n",
       "      <td>...</td>\n",
       "      <td>...</td>\n",
       "      <td>...</td>\n",
       "      <td>...</td>\n",
       "      <td>...</td>\n",
       "      <td>...</td>\n",
       "      <td>...</td>\n",
       "    </tr>\n",
       "    <tr>\n",
       "      <th>8485</th>\n",
       "      <td>DRK37</td>\n",
       "      <td>NaN</td>\n",
       "      <td>Low Fat</td>\n",
       "      <td>0.043792</td>\n",
       "      <td>Soft Drinks</td>\n",
       "      <td>189.0530</td>\n",
       "      <td>OUT027</td>\n",
       "      <td>1985</td>\n",
       "      <td>Medium</td>\n",
       "      <td>Tier 3</td>\n",
       "      <td>Supermarket Type3</td>\n",
       "      <td>6261.8490</td>\n",
       "    </tr>\n",
       "    <tr>\n",
       "      <th>8487</th>\n",
       "      <td>DRG13</td>\n",
       "      <td>NaN</td>\n",
       "      <td>Low Fat</td>\n",
       "      <td>0.037006</td>\n",
       "      <td>Soft Drinks</td>\n",
       "      <td>164.7526</td>\n",
       "      <td>OUT027</td>\n",
       "      <td>1985</td>\n",
       "      <td>Medium</td>\n",
       "      <td>Tier 3</td>\n",
       "      <td>Supermarket Type3</td>\n",
       "      <td>4111.3150</td>\n",
       "    </tr>\n",
       "    <tr>\n",
       "      <th>8488</th>\n",
       "      <td>NCN14</td>\n",
       "      <td>NaN</td>\n",
       "      <td>Low Fat</td>\n",
       "      <td>0.091473</td>\n",
       "      <td>Others</td>\n",
       "      <td>184.6608</td>\n",
       "      <td>OUT027</td>\n",
       "      <td>1985</td>\n",
       "      <td>Medium</td>\n",
       "      <td>Tier 3</td>\n",
       "      <td>Supermarket Type3</td>\n",
       "      <td>2756.4120</td>\n",
       "    </tr>\n",
       "    <tr>\n",
       "      <th>8490</th>\n",
       "      <td>FDU44</td>\n",
       "      <td>NaN</td>\n",
       "      <td>Regular</td>\n",
       "      <td>0.102296</td>\n",
       "      <td>Fruits and Vegetables</td>\n",
       "      <td>162.3552</td>\n",
       "      <td>OUT019</td>\n",
       "      <td>1985</td>\n",
       "      <td>Small</td>\n",
       "      <td>Tier 1</td>\n",
       "      <td>Grocery Store</td>\n",
       "      <td>487.3656</td>\n",
       "    </tr>\n",
       "    <tr>\n",
       "      <th>8504</th>\n",
       "      <td>NCN18</td>\n",
       "      <td>NaN</td>\n",
       "      <td>Low Fat</td>\n",
       "      <td>0.124111</td>\n",
       "      <td>Household</td>\n",
       "      <td>111.7544</td>\n",
       "      <td>OUT027</td>\n",
       "      <td>1985</td>\n",
       "      <td>Medium</td>\n",
       "      <td>Tier 3</td>\n",
       "      <td>Supermarket Type3</td>\n",
       "      <td>4138.6128</td>\n",
       "    </tr>\n",
       "  </tbody>\n",
       "</table>\n",
       "<p>1463 rows × 12 columns</p>\n",
       "</div>"
      ],
      "text/plain": [
       "     Item_Identifier  Item_Weight Item_Fat_Content  Item_Visibility  \\\n",
       "7              FDP10          NaN          Low Fat         0.127470   \n",
       "18             DRI11          NaN          Low Fat         0.034238   \n",
       "21             FDW12          NaN          Regular         0.035400   \n",
       "23             FDC37          NaN          Low Fat         0.057557   \n",
       "29             FDC14          NaN          Regular         0.072222   \n",
       "...              ...          ...              ...              ...   \n",
       "8485           DRK37          NaN          Low Fat         0.043792   \n",
       "8487           DRG13          NaN          Low Fat         0.037006   \n",
       "8488           NCN14          NaN          Low Fat         0.091473   \n",
       "8490           FDU44          NaN          Regular         0.102296   \n",
       "8504           NCN18          NaN          Low Fat         0.124111   \n",
       "\n",
       "                  Item_Type  Item_MRP Outlet_Identifier  \\\n",
       "7               Snack Foods  107.7622            OUT027   \n",
       "18              Hard Drinks  113.2834            OUT027   \n",
       "21             Baking Goods  144.5444            OUT027   \n",
       "23             Baking Goods  107.6938            OUT019   \n",
       "29                   Canned   43.6454            OUT019   \n",
       "...                     ...       ...               ...   \n",
       "8485            Soft Drinks  189.0530            OUT027   \n",
       "8487            Soft Drinks  164.7526            OUT027   \n",
       "8488                 Others  184.6608            OUT027   \n",
       "8490  Fruits and Vegetables  162.3552            OUT019   \n",
       "8504              Household  111.7544            OUT027   \n",
       "\n",
       "      Outlet_Establishment_Year Outlet_Size Outlet_Location_Type  \\\n",
       "7                          1985      Medium               Tier 3   \n",
       "18                         1985      Medium               Tier 3   \n",
       "21                         1985      Medium               Tier 3   \n",
       "23                         1985       Small               Tier 1   \n",
       "29                         1985       Small               Tier 1   \n",
       "...                         ...         ...                  ...   \n",
       "8485                       1985      Medium               Tier 3   \n",
       "8487                       1985      Medium               Tier 3   \n",
       "8488                       1985      Medium               Tier 3   \n",
       "8490                       1985       Small               Tier 1   \n",
       "8504                       1985      Medium               Tier 3   \n",
       "\n",
       "            Outlet_Type  Item_Outlet_Sales  \n",
       "7     Supermarket Type3          4022.7636  \n",
       "18    Supermarket Type3          2303.6680  \n",
       "21    Supermarket Type3          4064.0432  \n",
       "23        Grocery Store           214.3876  \n",
       "29        Grocery Store           125.8362  \n",
       "...                 ...                ...  \n",
       "8485  Supermarket Type3          6261.8490  \n",
       "8487  Supermarket Type3          4111.3150  \n",
       "8488  Supermarket Type3          2756.4120  \n",
       "8490      Grocery Store           487.3656  \n",
       "8504  Supermarket Type3          4138.6128  \n",
       "\n",
       "[1463 rows x 12 columns]"
      ]
     },
     "execution_count": 22,
     "metadata": {},
     "output_type": "execute_result"
    }
   ],
   "source": [
    "train[train['Item_Weight'].isnull()]"
   ]
  },
  {
   "cell_type": "code",
   "execution_count": 23,
   "metadata": {
    "execution": {
     "iopub.execute_input": "2023-07-10T08:32:37.737925Z",
     "iopub.status.busy": "2023-07-10T08:32:37.737562Z",
     "iopub.status.idle": "2023-07-10T08:32:37.748064Z",
     "shell.execute_reply": "2023-07-10T08:32:37.746220Z",
     "shell.execute_reply.started": "2023-07-10T08:32:37.737890Z"
    }
   },
   "outputs": [],
   "source": [
    "### using sklearn preprocessing to impute null values with mean\n",
    "imputer = SimpleImputer()\n",
    "Item_Weight = imputer.fit_transform(train['Item_Weight'].values.reshape(-1,1))\n"
   ]
  },
  {
   "cell_type": "code",
   "execution_count": 24,
   "metadata": {
    "execution": {
     "iopub.execute_input": "2023-07-10T08:32:37.750431Z",
     "iopub.status.busy": "2023-07-10T08:32:37.749997Z",
     "iopub.status.idle": "2023-07-10T08:32:38.123557Z",
     "shell.execute_reply": "2023-07-10T08:32:38.122465Z",
     "shell.execute_reply.started": "2023-07-10T08:32:37.750383Z"
    }
   },
   "outputs": [
    {
     "data": {
      "text/plain": [
       "<AxesSubplot:ylabel='Count'>"
      ]
     },
     "execution_count": 24,
     "metadata": {},
     "output_type": "execute_result"
    },
    {
     "data": {
      "image/png": "[encoded data removed]",
      "text/plain": [
       "<Figure size 640x480 with 1 Axes>"
      ]
     },
     "metadata": {},
     "output_type": "display_data"
    }
   ],
   "source": [
    "sns.histplot(Item_Weight,kde=True)"
   ]
  },
  {
   "cell_type": "code",
   "execution_count": 25,
   "metadata": {
    "execution": {
     "iopub.execute_input": "2023-07-10T08:32:38.126335Z",
     "iopub.status.busy": "2023-07-10T08:32:38.124873Z",
     "iopub.status.idle": "2023-07-10T08:32:38.158379Z",
     "shell.execute_reply": "2023-07-10T08:32:38.156675Z",
     "shell.execute_reply.started": "2023-07-10T08:32:38.126277Z"
    }
   },
   "outputs": [],
   "source": [
    "### tryin another approach for handling missing in item weights\n",
    "cols = ['Item_Visibility','Item_MRP','Item_Weight']\n",
    "x = train[cols]\n",
    "\n",
    "impute_it = IterativeImputer()\n",
    "x = impute_it.fit_transform(x)\n"
   ]
  },
  {
   "cell_type": "code",
   "execution_count": 26,
   "metadata": {
    "execution": {
     "iopub.execute_input": "2023-07-10T08:32:38.161069Z",
     "iopub.status.busy": "2023-07-10T08:32:38.160582Z",
     "iopub.status.idle": "2023-07-10T08:32:38.569789Z",
     "shell.execute_reply": "2023-07-10T08:32:38.568350Z",
     "shell.execute_reply.started": "2023-07-10T08:32:38.161017Z"
    }
   },
   "outputs": [
    {
     "data": {
      "text/plain": [
       "<AxesSubplot:ylabel='Count'>"
      ]
     },
     "execution_count": 26,
     "metadata": {},
     "output_type": "execute_result"
    },
    {
     "data": {
      "image/png": "[encoded data removed]",
      "text/plain": [
       "<Figure size 640x480 with 1 Axes>"
      ]
     },
     "metadata": {},
     "output_type": "display_data"
    }
   ],
   "source": [
    "sns.histplot(x[:,2],kde=True)"
   ]
  },
  {
   "cell_type": "code",
   "execution_count": 27,
   "metadata": {
    "execution": {
     "iopub.execute_input": "2023-07-10T08:32:38.571752Z",
     "iopub.status.busy": "2023-07-10T08:32:38.571326Z",
     "iopub.status.idle": "2023-07-10T08:32:38.597457Z",
     "shell.execute_reply": "2023-07-10T08:32:38.595290Z",
     "shell.execute_reply.started": "2023-07-10T08:32:38.571697Z"
    }
   },
   "outputs": [
    {
     "name": "stdout",
     "output_type": "stream",
     "text": [
      "<class 'pandas.core.frame.DataFrame'>\n",
      "RangeIndex: 8523 entries, 0 to 8522\n",
      "Data columns (total 12 columns):\n",
      " #   Column                     Non-Null Count  Dtype  \n",
      "---  ------                     --------------  -----  \n",
      " 0   Item_Identifier            8523 non-null   object \n",
      " 1   Item_Weight                8523 non-null   float64\n",
      " 2   Item_Fat_Content           8523 non-null   object \n",
      " 3   Item_Visibility            8523 non-null   float64\n",
      " 4   Item_Type                  8523 non-null   object \n",
      " 5   Item_MRP                   8523 non-null   float64\n",
      " 6   Outlet_Identifier          8523 non-null   object \n",
      " 7   Outlet_Establishment_Year  8523 non-null   int64  \n",
      " 8   Outlet_Size                8523 non-null   object \n",
      " 9   Outlet_Location_Type       8523 non-null   object \n",
      " 10  Outlet_Type                8523 non-null   object \n",
      " 11  Item_Outlet_Sales          8523 non-null   float64\n",
      "dtypes: float64(4), int64(1), object(7)\n",
      "memory usage: 799.2+ KB\n"
     ]
    }
   ],
   "source": [
    "## so we will go wtih the second approach\n",
    "train['Item_Weight'] = x[:,2]\n",
    "train.info()"
   ]
  },
  {
   "cell_type": "code",
   "execution_count": 28,
   "metadata": {
    "execution": {
     "iopub.execute_input": "2023-07-10T08:32:38.607506Z",
     "iopub.status.busy": "2023-07-10T08:32:38.607012Z",
     "iopub.status.idle": "2023-07-10T08:32:38.617071Z",
     "shell.execute_reply": "2023-07-10T08:32:38.614931Z",
     "shell.execute_reply.started": "2023-07-10T08:32:38.607451Z"
    }
   },
   "outputs": [],
   "source": [
    "## change the minimum values of \"Item_Visibility\" by giving them mean value\n",
    "train.loc[train['Item_Visibility']==0, 'Item_Visibility'] = train['Item_Visibility'].mean()"
   ]
  },
  {
   "cell_type": "code",
   "execution_count": 29,
   "metadata": {
    "execution": {
     "iopub.execute_input": "2023-07-10T08:32:38.619811Z",
     "iopub.status.busy": "2023-07-10T08:32:38.619185Z",
     "iopub.status.idle": "2023-07-10T08:32:38.802194Z",
     "shell.execute_reply": "2023-07-10T08:32:38.800731Z",
     "shell.execute_reply.started": "2023-07-10T08:32:38.619716Z"
    }
   },
   "outputs": [
    {
     "data": {
      "text/html": [
       "<div>\n",
       "<style scoped>\n",
       "    .dataframe tbody tr th:only-of-type {\n",
       "        vertical-align: middle;\n",
       "    }\n",
       "\n",
       "    .dataframe tbody tr th {\n",
       "        vertical-align: top;\n",
       "    }\n",
       "\n",
       "    .dataframe thead th {\n",
       "        text-align: right;\n",
       "    }\n",
       "</style>\n",
       "<table border=\"1\" class=\"dataframe\">\n",
       "  <thead>\n",
       "    <tr style=\"text-align: right;\">\n",
       "      <th></th>\n",
       "      <th>Item_Identifier</th>\n",
       "      <th>Item_Weight</th>\n",
       "      <th>Item_Fat_Content</th>\n",
       "      <th>Item_Visibility</th>\n",
       "      <th>Item_Type</th>\n",
       "      <th>Item_MRP</th>\n",
       "      <th>Outlet_Identifier</th>\n",
       "      <th>Outlet_Establishment_Year</th>\n",
       "      <th>Outlet_Size</th>\n",
       "      <th>Outlet_Location_Type</th>\n",
       "      <th>Outlet_Type</th>\n",
       "      <th>Item_Outlet_Sales</th>\n",
       "    </tr>\n",
       "  </thead>\n",
       "  <tbody>\n",
       "    <tr>\n",
       "      <th>0</th>\n",
       "      <td>FDA15</td>\n",
       "      <td>9.300</td>\n",
       "      <td>Low Fat</td>\n",
       "      <td>0.016047</td>\n",
       "      <td>Dairy</td>\n",
       "      <td>249.8092</td>\n",
       "      <td>OUT049</td>\n",
       "      <td>1999</td>\n",
       "      <td>Medium</td>\n",
       "      <td>Tier 1</td>\n",
       "      <td>Supermarket Type1</td>\n",
       "      <td>3735.1380</td>\n",
       "    </tr>\n",
       "    <tr>\n",
       "      <th>1</th>\n",
       "      <td>DRC01</td>\n",
       "      <td>5.920</td>\n",
       "      <td>Regular</td>\n",
       "      <td>0.019278</td>\n",
       "      <td>Soft Drinks</td>\n",
       "      <td>48.2692</td>\n",
       "      <td>OUT018</td>\n",
       "      <td>2009</td>\n",
       "      <td>Medium</td>\n",
       "      <td>Tier 3</td>\n",
       "      <td>Supermarket Type2</td>\n",
       "      <td>443.4228</td>\n",
       "    </tr>\n",
       "    <tr>\n",
       "      <th>2</th>\n",
       "      <td>FDN15</td>\n",
       "      <td>17.500</td>\n",
       "      <td>Low Fat</td>\n",
       "      <td>0.016760</td>\n",
       "      <td>Meat</td>\n",
       "      <td>141.6180</td>\n",
       "      <td>OUT049</td>\n",
       "      <td>1999</td>\n",
       "      <td>Medium</td>\n",
       "      <td>Tier 1</td>\n",
       "      <td>Supermarket Type1</td>\n",
       "      <td>2097.2700</td>\n",
       "    </tr>\n",
       "    <tr>\n",
       "      <th>3</th>\n",
       "      <td>FDX07</td>\n",
       "      <td>19.200</td>\n",
       "      <td>Regular</td>\n",
       "      <td>0.066132</td>\n",
       "      <td>Fruits and Vegetables</td>\n",
       "      <td>182.0950</td>\n",
       "      <td>OUT010</td>\n",
       "      <td>1998</td>\n",
       "      <td>Medium</td>\n",
       "      <td>Tier 3</td>\n",
       "      <td>Grocery Store</td>\n",
       "      <td>732.3800</td>\n",
       "    </tr>\n",
       "    <tr>\n",
       "      <th>4</th>\n",
       "      <td>NCD19</td>\n",
       "      <td>8.930</td>\n",
       "      <td>Low Fat</td>\n",
       "      <td>0.066132</td>\n",
       "      <td>Household</td>\n",
       "      <td>53.8614</td>\n",
       "      <td>OUT013</td>\n",
       "      <td>1987</td>\n",
       "      <td>High</td>\n",
       "      <td>Tier 3</td>\n",
       "      <td>Supermarket Type1</td>\n",
       "      <td>994.7052</td>\n",
       "    </tr>\n",
       "    <tr>\n",
       "      <th>...</th>\n",
       "      <td>...</td>\n",
       "      <td>...</td>\n",
       "      <td>...</td>\n",
       "      <td>...</td>\n",
       "      <td>...</td>\n",
       "      <td>...</td>\n",
       "      <td>...</td>\n",
       "      <td>...</td>\n",
       "      <td>...</td>\n",
       "      <td>...</td>\n",
       "      <td>...</td>\n",
       "      <td>...</td>\n",
       "    </tr>\n",
       "    <tr>\n",
       "      <th>8518</th>\n",
       "      <td>FDF22</td>\n",
       "      <td>6.865</td>\n",
       "      <td>Low Fat</td>\n",
       "      <td>0.056783</td>\n",
       "      <td>Snack Foods</td>\n",
       "      <td>214.5218</td>\n",
       "      <td>OUT013</td>\n",
       "      <td>1987</td>\n",
       "      <td>High</td>\n",
       "      <td>Tier 3</td>\n",
       "      <td>Supermarket Type1</td>\n",
       "      <td>2778.3834</td>\n",
       "    </tr>\n",
       "    <tr>\n",
       "      <th>8519</th>\n",
       "      <td>FDS36</td>\n",
       "      <td>8.380</td>\n",
       "      <td>Regular</td>\n",
       "      <td>0.046982</td>\n",
       "      <td>Baking Goods</td>\n",
       "      <td>108.1570</td>\n",
       "      <td>OUT045</td>\n",
       "      <td>2002</td>\n",
       "      <td>Small</td>\n",
       "      <td>Tier 2</td>\n",
       "      <td>Supermarket Type1</td>\n",
       "      <td>549.2850</td>\n",
       "    </tr>\n",
       "    <tr>\n",
       "      <th>8520</th>\n",
       "      <td>NCJ29</td>\n",
       "      <td>10.600</td>\n",
       "      <td>Low Fat</td>\n",
       "      <td>0.035186</td>\n",
       "      <td>Health and Hygiene</td>\n",
       "      <td>85.1224</td>\n",
       "      <td>OUT035</td>\n",
       "      <td>2004</td>\n",
       "      <td>Small</td>\n",
       "      <td>Tier 2</td>\n",
       "      <td>Supermarket Type1</td>\n",
       "      <td>1193.1136</td>\n",
       "    </tr>\n",
       "    <tr>\n",
       "      <th>8521</th>\n",
       "      <td>FDN46</td>\n",
       "      <td>7.210</td>\n",
       "      <td>Regular</td>\n",
       "      <td>0.145221</td>\n",
       "      <td>Snack Foods</td>\n",
       "      <td>103.1332</td>\n",
       "      <td>OUT018</td>\n",
       "      <td>2009</td>\n",
       "      <td>Medium</td>\n",
       "      <td>Tier 3</td>\n",
       "      <td>Supermarket Type2</td>\n",
       "      <td>1845.5976</td>\n",
       "    </tr>\n",
       "    <tr>\n",
       "      <th>8522</th>\n",
       "      <td>DRG01</td>\n",
       "      <td>14.800</td>\n",
       "      <td>Low Fat</td>\n",
       "      <td>0.044878</td>\n",
       "      <td>Soft Drinks</td>\n",
       "      <td>75.4670</td>\n",
       "      <td>OUT046</td>\n",
       "      <td>1997</td>\n",
       "      <td>Small</td>\n",
       "      <td>Tier 1</td>\n",
       "      <td>Supermarket Type1</td>\n",
       "      <td>765.6700</td>\n",
       "    </tr>\n",
       "  </tbody>\n",
       "</table>\n",
       "<p>8523 rows × 12 columns</p>\n",
       "</div>"
      ],
      "text/plain": [
       "     Item_Identifier  Item_Weight Item_Fat_Content  Item_Visibility  \\\n",
       "0              FDA15        9.300          Low Fat         0.016047   \n",
       "1              DRC01        5.920          Regular         0.019278   \n",
       "2              FDN15       17.500          Low Fat         0.016760   \n",
       "3              FDX07       19.200          Regular         0.066132   \n",
       "4              NCD19        8.930          Low Fat         0.066132   \n",
       "...              ...          ...              ...              ...   \n",
       "8518           FDF22        6.865          Low Fat         0.056783   \n",
       "8519           FDS36        8.380          Regular         0.046982   \n",
       "8520           NCJ29       10.600          Low Fat         0.035186   \n",
       "8521           FDN46        7.210          Regular         0.145221   \n",
       "8522           DRG01       14.800          Low Fat         0.044878   \n",
       "\n",
       "                  Item_Type  Item_MRP Outlet_Identifier  \\\n",
       "0                     Dairy  249.8092            OUT049   \n",
       "1               Soft Drinks   48.2692            OUT018   \n",
       "2                      Meat  141.6180            OUT049   \n",
       "3     Fruits and Vegetables  182.0950            OUT010   \n",
       "4                 Household   53.8614            OUT013   \n",
       "...                     ...       ...               ...   \n",
       "8518            Snack Foods  214.5218            OUT013   \n",
       "8519           Baking Goods  108.1570            OUT045   \n",
       "8520     Health and Hygiene   85.1224            OUT035   \n",
       "8521            Snack Foods  103.1332            OUT018   \n",
       "8522            Soft Drinks   75.4670            OUT046   \n",
       "\n",
       "      Outlet_Establishment_Year Outlet_Size Outlet_Location_Type  \\\n",
       "0                          1999      Medium               Tier 1   \n",
       "1                          2009      Medium               Tier 3   \n",
       "2                          1999      Medium               Tier 1   \n",
       "3                          1998      Medium               Tier 3   \n",
       "4                          1987        High               Tier 3   \n",
       "...                         ...         ...                  ...   \n",
       "8518                       1987        High               Tier 3   \n",
       "8519                       2002       Small               Tier 2   \n",
       "8520                       2004       Small               Tier 2   \n",
       "8521                       2009      Medium               Tier 3   \n",
       "8522                       1997       Small               Tier 1   \n",
       "\n",
       "            Outlet_Type  Item_Outlet_Sales  \n",
       "0     Supermarket Type1          3735.1380  \n",
       "1     Supermarket Type2           443.4228  \n",
       "2     Supermarket Type1          2097.2700  \n",
       "3         Grocery Store           732.3800  \n",
       "4     Supermarket Type1           994.7052  \n",
       "...                 ...                ...  \n",
       "8518  Supermarket Type1          2778.3834  \n",
       "8519  Supermarket Type1           549.2850  \n",
       "8520  Supermarket Type1          1193.1136  \n",
       "8521  Supermarket Type2          1845.5976  \n",
       "8522  Supermarket Type1           765.6700  \n",
       "\n",
       "[8523 rows x 12 columns]"
      ]
     },
     "execution_count": 29,
     "metadata": {},
     "output_type": "execute_result"
    }
   ],
   "source": [
    "train"
   ]
  },
  {
   "cell_type": "code",
   "execution_count": 30,
   "metadata": {
    "execution": {
     "iopub.execute_input": "2023-07-10T08:32:38.804312Z",
     "iopub.status.busy": "2023-07-10T08:32:38.803831Z",
     "iopub.status.idle": "2023-07-10T08:32:38.816251Z",
     "shell.execute_reply": "2023-07-10T08:32:38.814737Z",
     "shell.execute_reply.started": "2023-07-10T08:32:38.804274Z"
    }
   },
   "outputs": [
    {
     "data": {
      "text/plain": [
       "0       20\n",
       "1       10\n",
       "2       20\n",
       "3       21\n",
       "4       32\n",
       "        ..\n",
       "8518    32\n",
       "8519    17\n",
       "8520    15\n",
       "8521    10\n",
       "8522    22\n",
       "Name: Outlet_Age, Length: 8523, dtype: int64"
      ]
     },
     "execution_count": 30,
     "metadata": {},
     "output_type": "execute_result"
    }
   ],
   "source": [
    "#extract number of years for each outlet \n",
    "train['Outlet_Age'] = 2019 - train['Outlet_Establishment_Year']\n",
    "train['Outlet_Age']"
   ]
  },
  {
   "cell_type": "code",
   "execution_count": 31,
   "metadata": {
    "execution": {
     "iopub.execute_input": "2023-07-10T08:32:38.819126Z",
     "iopub.status.busy": "2023-07-10T08:32:38.818622Z",
     "iopub.status.idle": "2023-07-10T08:32:41.519432Z",
     "shell.execute_reply": "2023-07-10T08:32:41.517550Z",
     "shell.execute_reply.started": "2023-07-10T08:32:38.819072Z"
    }
   },
   "outputs": [
    {
     "data": {
      "image/png": "[encoded data removed]",
      "text/plain": [
       "<Figure size 1200x1000 with 1 Axes>"
      ]
     },
     "metadata": {},
     "output_type": "display_data"
    },
    {
     "data": {
      "image/png": "[encoded data removed]",
      "text/plain": [
       "<Figure size 1200x1000 with 1 Axes>"
      ]
     },
     "metadata": {},
     "output_type": "display_data"
    },
    {
     "data": {
      "image/png": "[encoded data removed]",
      "text/plain": [
       "<Figure size 1200x1000 with 1 Axes>"
      ]
     },
     "metadata": {},
     "output_type": "display_data"
    }
   ],
   "source": [
    "#showing the mean sales for each outlet with the other categories columns related to outlet\n",
    "outlet_cols = ['Outlet_Size', 'Outlet_Location_Type','Outlet_Type']\n",
    "for i in outlet_cols:\n",
    "    plt.figure(figsize=(12,10))\n",
    "    sns.barplot(x='Outlet_Identifier', y= 'Item_Outlet_Sales', hue=i,data=train)\n",
    "    plt.show()"
   ]
  },
  {
   "cell_type": "code",
   "execution_count": 32,
   "metadata": {
    "execution": {
     "iopub.execute_input": "2023-07-10T08:32:41.521787Z",
     "iopub.status.busy": "2023-07-10T08:32:41.521247Z",
     "iopub.status.idle": "2023-07-10T08:32:41.546432Z",
     "shell.execute_reply": "2023-07-10T08:32:41.544914Z",
     "shell.execute_reply.started": "2023-07-10T08:32:41.521731Z"
    }
   },
   "outputs": [
    {
     "data": {
      "text/html": [
       "<div>\n",
       "<style scoped>\n",
       "    .dataframe tbody tr th:only-of-type {\n",
       "        vertical-align: middle;\n",
       "    }\n",
       "\n",
       "    .dataframe tbody tr th {\n",
       "        vertical-align: top;\n",
       "    }\n",
       "\n",
       "    .dataframe thead th {\n",
       "        text-align: right;\n",
       "    }\n",
       "</style>\n",
       "<table border=\"1\" class=\"dataframe\">\n",
       "  <thead>\n",
       "    <tr style=\"text-align: right;\">\n",
       "      <th></th>\n",
       "      <th>Outlet_Age</th>\n",
       "      <th>Item_Outlet_Sales</th>\n",
       "    </tr>\n",
       "    <tr>\n",
       "      <th>Outlet_Identifier</th>\n",
       "      <th></th>\n",
       "      <th></th>\n",
       "    </tr>\n",
       "  </thead>\n",
       "  <tbody>\n",
       "    <tr>\n",
       "      <th>OUT010</th>\n",
       "      <td>21</td>\n",
       "      <td>3.393517</td>\n",
       "    </tr>\n",
       "    <tr>\n",
       "      <th>OUT019</th>\n",
       "      <td>34</td>\n",
       "      <td>3.403297</td>\n",
       "    </tr>\n",
       "    <tr>\n",
       "      <th>OUT018</th>\n",
       "      <td>10</td>\n",
       "      <td>19.954987</td>\n",
       "    </tr>\n",
       "    <tr>\n",
       "      <th>OUT045</th>\n",
       "      <td>17</td>\n",
       "      <td>21.923848</td>\n",
       "    </tr>\n",
       "    <tr>\n",
       "      <th>OUT046</th>\n",
       "      <td>22</td>\n",
       "      <td>22.778443</td>\n",
       "    </tr>\n",
       "    <tr>\n",
       "      <th>OUT013</th>\n",
       "      <td>32</td>\n",
       "      <td>22.989953</td>\n",
       "    </tr>\n",
       "    <tr>\n",
       "      <th>OUT017</th>\n",
       "      <td>12</td>\n",
       "      <td>23.406753</td>\n",
       "    </tr>\n",
       "    <tr>\n",
       "      <th>OUT049</th>\n",
       "      <td>20</td>\n",
       "      <td>23.483546</td>\n",
       "    </tr>\n",
       "    <tr>\n",
       "      <th>OUT035</th>\n",
       "      <td>15</td>\n",
       "      <td>24.388419</td>\n",
       "    </tr>\n",
       "    <tr>\n",
       "      <th>OUT027</th>\n",
       "      <td>34</td>\n",
       "      <td>36.940386</td>\n",
       "    </tr>\n",
       "  </tbody>\n",
       "</table>\n",
       "</div>"
      ],
      "text/plain": [
       "                   Outlet_Age  Item_Outlet_Sales\n",
       "Outlet_Identifier                               \n",
       "OUT010                     21           3.393517\n",
       "OUT019                     34           3.403297\n",
       "OUT018                     10          19.954987\n",
       "OUT045                     17          21.923848\n",
       "OUT046                     22          22.778443\n",
       "OUT013                     32          22.989953\n",
       "OUT017                     12          23.406753\n",
       "OUT049                     20          23.483546\n",
       "OUT035                     15          24.388419\n",
       "OUT027                     34          36.940386"
      ]
     },
     "execution_count": 32,
     "metadata": {},
     "output_type": "execute_result"
    }
   ],
   "source": [
    "## check the age for every outlet\n",
    "#df_out = train[[\"Outlet_Identifier\",'Outlet_Age','Item_Outlet_Sales']]\n",
    "#df_out.set_index('Outlet_Identifier')\n",
    "\n",
    "df_out = train.groupby(['Outlet_Identifier','Outlet_Age'],as_index=False)['Item_Outlet_Sales'].mean().sort_values(by='Item_Outlet_Sales')\n",
    "df_out.set_index('Outlet_Identifier',inplace=True)\n",
    "#scaling mean sales by dividing on 100\n",
    "df_out['Item_Outlet_Sales'] = df_out['Item_Outlet_Sales']/100\n",
    "\n",
    "df_out"
   ]
  },
  {
   "cell_type": "code",
   "execution_count": 33,
   "metadata": {
    "execution": {
     "iopub.execute_input": "2023-07-10T08:32:41.548379Z",
     "iopub.status.busy": "2023-07-10T08:32:41.547887Z",
     "iopub.status.idle": "2023-07-10T08:32:41.860711Z",
     "shell.execute_reply": "2023-07-10T08:32:41.859448Z",
     "shell.execute_reply.started": "2023-07-10T08:32:41.548314Z"
    }
   },
   "outputs": [
    {
     "data": {
      "text/plain": [
       "<BarContainer object of 10 artists>"
      ]
     },
     "execution_count": 33,
     "metadata": {},
     "output_type": "execute_result"
    },
    {
     "data": {
      "image/png": "[encoded data removed]",
      "text/plain": [
       "<Figure size 1200x900 with 1 Axes>"
      ]
     },
     "metadata": {},
     "output_type": "display_data"
    }
   ],
   "source": [
    "plt.figure(figsize=(12,9))\n",
    "\n",
    "plt.plot(df_out.index, df_out.Outlet_Age, \"-b\", label=\"Average Outlet Sales\")\n",
    "plt.bar(df_out.index, df_out.Item_Outlet_Sales , width=0.5,alpha=0.8, color='green', label=\"Average percipitation mm\", )"
   ]
  },
  {
   "cell_type": "markdown",
   "metadata": {},
   "source": [
    "#### then age has not a significant factor on sales"
   ]
  },
  {
   "cell_type": "markdown",
   "metadata": {},
   "source": [
    "# Correlation"
   ]
  },
  {
   "cell_type": "code",
   "execution_count": 34,
   "metadata": {
    "execution": {
     "iopub.execute_input": "2023-07-10T08:32:41.863227Z",
     "iopub.status.busy": "2023-07-10T08:32:41.862304Z",
     "iopub.status.idle": "2023-07-10T08:32:42.315108Z",
     "shell.execute_reply": "2023-07-10T08:32:42.314181Z",
     "shell.execute_reply.started": "2023-07-10T08:32:41.863183Z"
    }
   },
   "outputs": [
    {
     "data": {
      "image/png": "[encoded data removed]",
      "text/plain": [
       "<Figure size 1300x1000 with 2 Axes>"
      ]
     },
     "metadata": {},
     "output_type": "display_data"
    }
   ],
   "source": [
    "### check colleration for all columns\n",
    "train_corr = train.corr()\n",
    "mask = np.triu(np.ones_like(train_corr,dtype=bool))\n",
    "\n",
    "plt.figure(figsize=(13,10))\n",
    "sns.heatmap(train_corr, cmap='RdYlGn_r', mask=mask , annot=True)\n",
    "plt.xticks(rotation=65)\n",
    "plt.show()"
   ]
  },
  {
   "cell_type": "markdown",
   "metadata": {},
   "source": [
    "\n",
    "- there are no significant colleration with the sales except for the \"Item_MRP\" \n"
   ]
  },
  {
   "cell_type": "code",
   "execution_count": 35,
   "metadata": {
    "execution": {
     "iopub.execute_input": "2023-07-10T08:32:42.317027Z",
     "iopub.status.busy": "2023-07-10T08:32:42.316330Z",
     "iopub.status.idle": "2023-07-10T08:32:42.581034Z",
     "shell.execute_reply": "2023-07-10T08:32:42.579704Z",
     "shell.execute_reply.started": "2023-07-10T08:32:42.316989Z"
    }
   },
   "outputs": [
    {
     "data": {
      "text/plain": [
       "<matplotlib.collections.PathCollection at 0x7f026cc2e490>"
      ]
     },
     "execution_count": 35,
     "metadata": {},
     "output_type": "execute_result"
    },
    {
     "data": {
      "image/png": "[encoded data removed]",
      "text/plain": [
       "<Figure size 640x480 with 1 Axes>"
      ]
     },
     "metadata": {},
     "output_type": "display_data"
    }
   ],
   "source": [
    "plt.scatter(train['Item_Outlet_Sales'], train['Item_MRP'])"
   ]
  },
  {
   "cell_type": "code",
   "execution_count": 36,
   "metadata": {
    "execution": {
     "iopub.execute_input": "2023-07-10T08:32:42.583183Z",
     "iopub.status.busy": "2023-07-10T08:32:42.582799Z",
     "iopub.status.idle": "2023-07-10T08:32:42.598903Z",
     "shell.execute_reply": "2023-07-10T08:32:42.597479Z",
     "shell.execute_reply.started": "2023-07-10T08:32:42.583148Z"
    }
   },
   "outputs": [],
   "source": [
    "### changing outliers to lower and maximum values\n",
    "upper = train['Item_Outlet_Sales'].quantile(0.95)\n",
    "lower = train['Item_Outlet_Sales'].quantile(0.05)\n",
    "\n",
    "train['Item_Outlet_Sales'] = train['Item_Outlet_Sales'].apply(lambda x: upper if x >upper \n",
    "                                                              else(lower if x < lower else x))"
   ]
  },
  {
   "cell_type": "code",
   "execution_count": 37,
   "metadata": {
    "execution": {
     "iopub.execute_input": "2023-07-10T08:32:42.602057Z",
     "iopub.status.busy": "2023-07-10T08:32:42.600612Z",
     "iopub.status.idle": "2023-07-10T08:32:42.784422Z",
     "shell.execute_reply": "2023-07-10T08:32:42.783059Z",
     "shell.execute_reply.started": "2023-07-10T08:32:42.602009Z"
    }
   },
   "outputs": [
    {
     "data": {
      "text/plain": [
       "<AxesSubplot:ylabel='Item_Outlet_Sales'>"
      ]
     },
     "execution_count": 37,
     "metadata": {},
     "output_type": "execute_result"
    },
    {
     "data": {
      "image/png": "[encoded data removed]",
      "text/plain": [
       "<Figure size 640x480 with 1 Axes>"
      ]
     },
     "metadata": {},
     "output_type": "display_data"
    }
   ],
   "source": [
    "## visualising the sales after getting rid of outliers\n",
    "sns.boxplot(y='Item_Outlet_Sales',data=train)"
   ]
  },
  {
   "cell_type": "code",
   "execution_count": 38,
   "metadata": {
    "execution": {
     "iopub.execute_input": "2023-07-10T08:32:42.787427Z",
     "iopub.status.busy": "2023-07-10T08:32:42.786070Z",
     "iopub.status.idle": "2023-07-10T08:32:43.062354Z",
     "shell.execute_reply": "2023-07-10T08:32:43.061415Z",
     "shell.execute_reply.started": "2023-07-10T08:32:42.787344Z"
    }
   },
   "outputs": [
    {
     "data": {
      "text/plain": [
       "<matplotlib.collections.PathCollection at 0x7f026c35d410>"
      ]
     },
     "execution_count": 38,
     "metadata": {},
     "output_type": "execute_result"
    },
    {
     "data": {
      "image/png": "[encoded data removed]",
      "text/plain": [
       "<Figure size 640x480 with 1 Axes>"
      ]
     },
     "metadata": {},
     "output_type": "display_data"
    }
   ],
   "source": [
    "plt.scatter(train['Item_Outlet_Sales'], train['Item_MRP'])"
   ]
  },
  {
   "cell_type": "code",
   "execution_count": null,
   "metadata": {},
   "outputs": [],
   "source": []
  },
  {
   "cell_type": "markdown",
   "metadata": {},
   "source": [
    "#### Data Exploratory for the items columns\n"
   ]
  },
  {
   "cell_type": "code",
   "execution_count": 39,
   "metadata": {
    "execution": {
     "iopub.execute_input": "2023-07-10T08:32:43.064569Z",
     "iopub.status.busy": "2023-07-10T08:32:43.063549Z",
     "iopub.status.idle": "2023-07-10T08:32:43.093025Z",
     "shell.execute_reply": "2023-07-10T08:32:43.091635Z",
     "shell.execute_reply.started": "2023-07-10T08:32:43.064526Z"
    }
   },
   "outputs": [
    {
     "data": {
      "text/html": [
       "<div>\n",
       "<style scoped>\n",
       "    .dataframe tbody tr th:only-of-type {\n",
       "        vertical-align: middle;\n",
       "    }\n",
       "\n",
       "    .dataframe tbody tr th {\n",
       "        vertical-align: top;\n",
       "    }\n",
       "\n",
       "    .dataframe thead th {\n",
       "        text-align: right;\n",
       "    }\n",
       "</style>\n",
       "<table border=\"1\" class=\"dataframe\">\n",
       "  <thead>\n",
       "    <tr style=\"text-align: right;\">\n",
       "      <th></th>\n",
       "      <th>Item_Identifier</th>\n",
       "      <th>Item_Weight</th>\n",
       "      <th>Item_Fat_Content</th>\n",
       "      <th>Item_Visibility</th>\n",
       "      <th>Item_Type</th>\n",
       "      <th>Item_MRP</th>\n",
       "      <th>Outlet_Identifier</th>\n",
       "      <th>Outlet_Establishment_Year</th>\n",
       "      <th>Outlet_Size</th>\n",
       "      <th>Outlet_Location_Type</th>\n",
       "      <th>Outlet_Type</th>\n",
       "      <th>Item_Outlet_Sales</th>\n",
       "      <th>Outlet_Age</th>\n",
       "    </tr>\n",
       "  </thead>\n",
       "  <tbody>\n",
       "    <tr>\n",
       "      <th>0</th>\n",
       "      <td>FDA15</td>\n",
       "      <td>9.300</td>\n",
       "      <td>Low Fat</td>\n",
       "      <td>0.016047</td>\n",
       "      <td>Dairy</td>\n",
       "      <td>249.8092</td>\n",
       "      <td>OUT049</td>\n",
       "      <td>1999</td>\n",
       "      <td>Medium</td>\n",
       "      <td>Tier 1</td>\n",
       "      <td>Supermarket Type1</td>\n",
       "      <td>3735.1380</td>\n",
       "      <td>20</td>\n",
       "    </tr>\n",
       "    <tr>\n",
       "      <th>1</th>\n",
       "      <td>DRC01</td>\n",
       "      <td>5.920</td>\n",
       "      <td>Regular</td>\n",
       "      <td>0.019278</td>\n",
       "      <td>Soft Drinks</td>\n",
       "      <td>48.2692</td>\n",
       "      <td>OUT018</td>\n",
       "      <td>2009</td>\n",
       "      <td>Medium</td>\n",
       "      <td>Tier 3</td>\n",
       "      <td>Supermarket Type2</td>\n",
       "      <td>443.4228</td>\n",
       "      <td>10</td>\n",
       "    </tr>\n",
       "    <tr>\n",
       "      <th>2</th>\n",
       "      <td>FDN15</td>\n",
       "      <td>17.500</td>\n",
       "      <td>Low Fat</td>\n",
       "      <td>0.016760</td>\n",
       "      <td>Meat</td>\n",
       "      <td>141.6180</td>\n",
       "      <td>OUT049</td>\n",
       "      <td>1999</td>\n",
       "      <td>Medium</td>\n",
       "      <td>Tier 1</td>\n",
       "      <td>Supermarket Type1</td>\n",
       "      <td>2097.2700</td>\n",
       "      <td>20</td>\n",
       "    </tr>\n",
       "    <tr>\n",
       "      <th>3</th>\n",
       "      <td>FDX07</td>\n",
       "      <td>19.200</td>\n",
       "      <td>Regular</td>\n",
       "      <td>0.066132</td>\n",
       "      <td>Fruits and Vegetables</td>\n",
       "      <td>182.0950</td>\n",
       "      <td>OUT010</td>\n",
       "      <td>1998</td>\n",
       "      <td>Medium</td>\n",
       "      <td>Tier 3</td>\n",
       "      <td>Grocery Store</td>\n",
       "      <td>732.3800</td>\n",
       "      <td>21</td>\n",
       "    </tr>\n",
       "    <tr>\n",
       "      <th>4</th>\n",
       "      <td>NCD19</td>\n",
       "      <td>8.930</td>\n",
       "      <td>Low Fat</td>\n",
       "      <td>0.066132</td>\n",
       "      <td>Household</td>\n",
       "      <td>53.8614</td>\n",
       "      <td>OUT013</td>\n",
       "      <td>1987</td>\n",
       "      <td>High</td>\n",
       "      <td>Tier 3</td>\n",
       "      <td>Supermarket Type1</td>\n",
       "      <td>994.7052</td>\n",
       "      <td>32</td>\n",
       "    </tr>\n",
       "    <tr>\n",
       "      <th>...</th>\n",
       "      <td>...</td>\n",
       "      <td>...</td>\n",
       "      <td>...</td>\n",
       "      <td>...</td>\n",
       "      <td>...</td>\n",
       "      <td>...</td>\n",
       "      <td>...</td>\n",
       "      <td>...</td>\n",
       "      <td>...</td>\n",
       "      <td>...</td>\n",
       "      <td>...</td>\n",
       "      <td>...</td>\n",
       "      <td>...</td>\n",
       "    </tr>\n",
       "    <tr>\n",
       "      <th>8518</th>\n",
       "      <td>FDF22</td>\n",
       "      <td>6.865</td>\n",
       "      <td>Low Fat</td>\n",
       "      <td>0.056783</td>\n",
       "      <td>Snack Foods</td>\n",
       "      <td>214.5218</td>\n",
       "      <td>OUT013</td>\n",
       "      <td>1987</td>\n",
       "      <td>High</td>\n",
       "      <td>Tier 3</td>\n",
       "      <td>Supermarket Type1</td>\n",
       "      <td>2778.3834</td>\n",
       "      <td>32</td>\n",
       "    </tr>\n",
       "    <tr>\n",
       "      <th>8519</th>\n",
       "      <td>FDS36</td>\n",
       "      <td>8.380</td>\n",
       "      <td>Regular</td>\n",
       "      <td>0.046982</td>\n",
       "      <td>Baking Goods</td>\n",
       "      <td>108.1570</td>\n",
       "      <td>OUT045</td>\n",
       "      <td>2002</td>\n",
       "      <td>Small</td>\n",
       "      <td>Tier 2</td>\n",
       "      <td>Supermarket Type1</td>\n",
       "      <td>549.2850</td>\n",
       "      <td>17</td>\n",
       "    </tr>\n",
       "    <tr>\n",
       "      <th>8520</th>\n",
       "      <td>NCJ29</td>\n",
       "      <td>10.600</td>\n",
       "      <td>Low Fat</td>\n",
       "      <td>0.035186</td>\n",
       "      <td>Health and Hygiene</td>\n",
       "      <td>85.1224</td>\n",
       "      <td>OUT035</td>\n",
       "      <td>2004</td>\n",
       "      <td>Small</td>\n",
       "      <td>Tier 2</td>\n",
       "      <td>Supermarket Type1</td>\n",
       "      <td>1193.1136</td>\n",
       "      <td>15</td>\n",
       "    </tr>\n",
       "    <tr>\n",
       "      <th>8521</th>\n",
       "      <td>FDN46</td>\n",
       "      <td>7.210</td>\n",
       "      <td>Regular</td>\n",
       "      <td>0.145221</td>\n",
       "      <td>Snack Foods</td>\n",
       "      <td>103.1332</td>\n",
       "      <td>OUT018</td>\n",
       "      <td>2009</td>\n",
       "      <td>Medium</td>\n",
       "      <td>Tier 3</td>\n",
       "      <td>Supermarket Type2</td>\n",
       "      <td>1845.5976</td>\n",
       "      <td>10</td>\n",
       "    </tr>\n",
       "    <tr>\n",
       "      <th>8522</th>\n",
       "      <td>DRG01</td>\n",
       "      <td>14.800</td>\n",
       "      <td>Low Fat</td>\n",
       "      <td>0.044878</td>\n",
       "      <td>Soft Drinks</td>\n",
       "      <td>75.4670</td>\n",
       "      <td>OUT046</td>\n",
       "      <td>1997</td>\n",
       "      <td>Small</td>\n",
       "      <td>Tier 1</td>\n",
       "      <td>Supermarket Type1</td>\n",
       "      <td>765.6700</td>\n",
       "      <td>22</td>\n",
       "    </tr>\n",
       "  </tbody>\n",
       "</table>\n",
       "<p>8523 rows × 13 columns</p>\n",
       "</div>"
      ],
      "text/plain": [
       "     Item_Identifier  Item_Weight Item_Fat_Content  Item_Visibility  \\\n",
       "0              FDA15        9.300          Low Fat         0.016047   \n",
       "1              DRC01        5.920          Regular         0.019278   \n",
       "2              FDN15       17.500          Low Fat         0.016760   \n",
       "3              FDX07       19.200          Regular         0.066132   \n",
       "4              NCD19        8.930          Low Fat         0.066132   \n",
       "...              ...          ...              ...              ...   \n",
       "8518           FDF22        6.865          Low Fat         0.056783   \n",
       "8519           FDS36        8.380          Regular         0.046982   \n",
       "8520           NCJ29       10.600          Low Fat         0.035186   \n",
       "8521           FDN46        7.210          Regular         0.145221   \n",
       "8522           DRG01       14.800          Low Fat         0.044878   \n",
       "\n",
       "                  Item_Type  Item_MRP Outlet_Identifier  \\\n",
       "0                     Dairy  249.8092            OUT049   \n",
       "1               Soft Drinks   48.2692            OUT018   \n",
       "2                      Meat  141.6180            OUT049   \n",
       "3     Fruits and Vegetables  182.0950            OUT010   \n",
       "4                 Household   53.8614            OUT013   \n",
       "...                     ...       ...               ...   \n",
       "8518            Snack Foods  214.5218            OUT013   \n",
       "8519           Baking Goods  108.1570            OUT045   \n",
       "8520     Health and Hygiene   85.1224            OUT035   \n",
       "8521            Snack Foods  103.1332            OUT018   \n",
       "8522            Soft Drinks   75.4670            OUT046   \n",
       "\n",
       "      Outlet_Establishment_Year Outlet_Size Outlet_Location_Type  \\\n",
       "0                          1999      Medium               Tier 1   \n",
       "1                          2009      Medium               Tier 3   \n",
       "2                          1999      Medium               Tier 1   \n",
       "3                          1998      Medium               Tier 3   \n",
       "4                          1987        High               Tier 3   \n",
       "...                         ...         ...                  ...   \n",
       "8518                       1987        High               Tier 3   \n",
       "8519                       2002       Small               Tier 2   \n",
       "8520                       2004       Small               Tier 2   \n",
       "8521                       2009      Medium               Tier 3   \n",
       "8522                       1997       Small               Tier 1   \n",
       "\n",
       "            Outlet_Type  Item_Outlet_Sales  Outlet_Age  \n",
       "0     Supermarket Type1          3735.1380          20  \n",
       "1     Supermarket Type2           443.4228          10  \n",
       "2     Supermarket Type1          2097.2700          20  \n",
       "3         Grocery Store           732.3800          21  \n",
       "4     Supermarket Type1           994.7052          32  \n",
       "...                 ...                ...         ...  \n",
       "8518  Supermarket Type1          2778.3834          32  \n",
       "8519  Supermarket Type1           549.2850          17  \n",
       "8520  Supermarket Type1          1193.1136          15  \n",
       "8521  Supermarket Type2          1845.5976          10  \n",
       "8522  Supermarket Type1           765.6700          22  \n",
       "\n",
       "[8523 rows x 13 columns]"
      ]
     },
     "execution_count": 39,
     "metadata": {},
     "output_type": "execute_result"
    }
   ],
   "source": [
    "train"
   ]
  },
  {
   "cell_type": "code",
   "execution_count": 40,
   "metadata": {
    "execution": {
     "iopub.execute_input": "2023-07-10T08:32:43.095151Z",
     "iopub.status.busy": "2023-07-10T08:32:43.094724Z",
     "iopub.status.idle": "2023-07-10T08:32:43.133485Z",
     "shell.execute_reply": "2023-07-10T08:32:43.132116Z",
     "shell.execute_reply.started": "2023-07-10T08:32:43.095082Z"
    }
   },
   "outputs": [
    {
     "name": "stdout",
     "output_type": "stream",
     "text": [
      "Item_Identifier\n",
      "FDW13    10\n",
      "FDG33    10\n",
      "NCY18     9\n",
      "FDD38     9\n",
      "DRE49     9\n",
      "         ..\n",
      "FDY43     1\n",
      "FDQ60     1\n",
      "FDO33     1\n",
      "DRF48     1\n",
      "FDC23     1\n",
      "Name: Item_Identifier, Length: 1559, dtype: int64\n",
      "*********************\n",
      "\n",
      "Item_Weight\n",
      "12.150000    86\n",
      "17.600000    82\n",
      "13.650000    77\n",
      "11.800000    76\n",
      "9.300000     68\n",
      "             ..\n",
      "12.857600     1\n",
      "12.953250     1\n",
      "12.785437     1\n",
      "12.692389     1\n",
      "12.805120     1\n",
      "Name: Item_Weight, Length: 1878, dtype: int64\n",
      "*********************\n",
      "\n",
      "Item_Fat_Content\n",
      "Low Fat    5089\n",
      "Regular    2889\n",
      "LF          316\n",
      "reg         117\n",
      "low fat     112\n",
      "Name: Item_Fat_Content, dtype: int64\n",
      "*********************\n",
      "\n",
      "Item_Visibility\n",
      "0.066132    526\n",
      "0.076975      3\n",
      "0.162462      2\n",
      "0.076841      2\n",
      "0.073562      2\n",
      "           ... \n",
      "0.013957      1\n",
      "0.110460      1\n",
      "0.124646      1\n",
      "0.054142      1\n",
      "0.044878      1\n",
      "Name: Item_Visibility, Length: 7880, dtype: int64\n",
      "*********************\n",
      "\n",
      "Item_Type\n",
      "Fruits and Vegetables    1232\n",
      "Snack Foods              1200\n",
      "Household                 910\n",
      "Frozen Foods              856\n",
      "Dairy                     682\n",
      "Canned                    649\n",
      "Baking Goods              648\n",
      "Health and Hygiene        520\n",
      "Soft Drinks               445\n",
      "Meat                      425\n",
      "Breads                    251\n",
      "Hard Drinks               214\n",
      "Others                    169\n",
      "Starchy Foods             148\n",
      "Breakfast                 110\n",
      "Seafood                    64\n",
      "Name: Item_Type, dtype: int64\n",
      "*********************\n",
      "\n",
      "Item_MRP\n",
      "172.0422    7\n",
      "170.5422    6\n",
      "196.5084    6\n",
      "188.1872    6\n",
      "142.0154    6\n",
      "           ..\n",
      "97.3384     1\n",
      "83.1934     1\n",
      "96.6752     1\n",
      "152.6682    1\n",
      "75.4670     1\n",
      "Name: Item_MRP, Length: 5938, dtype: int64\n",
      "*********************\n",
      "\n",
      "Outlet_Identifier\n",
      "OUT027    935\n",
      "OUT013    932\n",
      "OUT049    930\n",
      "OUT046    930\n",
      "OUT035    930\n",
      "OUT045    929\n",
      "OUT018    928\n",
      "OUT017    926\n",
      "OUT010    555\n",
      "OUT019    528\n",
      "Name: Outlet_Identifier, dtype: int64\n",
      "*********************\n",
      "\n",
      "Outlet_Establishment_Year\n",
      "1985    1463\n",
      "1987     932\n",
      "1999     930\n",
      "1997     930\n",
      "2004     930\n",
      "2002     929\n",
      "2009     928\n",
      "2007     926\n",
      "1998     555\n",
      "Name: Outlet_Establishment_Year, dtype: int64\n",
      "*********************\n",
      "\n",
      "Outlet_Size\n",
      "Small     4243\n",
      "Medium    3348\n",
      "High       932\n",
      "Name: Outlet_Size, dtype: int64\n",
      "*********************\n",
      "\n",
      "Outlet_Location_Type\n",
      "Tier 3    3350\n",
      "Tier 2    2785\n",
      "Tier 1    2388\n",
      "Name: Outlet_Location_Type, dtype: int64\n",
      "*********************\n",
      "\n",
      "Outlet_Type\n",
      "Supermarket Type1    5577\n",
      "Grocery Store        1083\n",
      "Supermarket Type3     935\n",
      "Supermarket Type2     928\n",
      "Name: Outlet_Type, dtype: int64\n",
      "*********************\n",
      "\n",
      "Item_Outlet_Sales\n",
      "5522.8110    430\n",
      "188.4214     428\n",
      "958.7520      17\n",
      "1342.2528     16\n",
      "1845.5976     15\n",
      "            ... \n",
      "1123.2046      1\n",
      "3013.4108      1\n",
      "1088.5830      1\n",
      "625.8520       1\n",
      "2778.3834      1\n",
      "Name: Item_Outlet_Sales, Length: 2964, dtype: int64\n",
      "*********************\n",
      "\n",
      "Outlet_Age\n",
      "34    1463\n",
      "32     932\n",
      "20     930\n",
      "22     930\n",
      "15     930\n",
      "17     929\n",
      "10     928\n",
      "12     926\n",
      "21     555\n",
      "Name: Outlet_Age, dtype: int64\n",
      "*********************\n",
      "\n"
     ]
    }
   ],
   "source": [
    "for i in train.columns:\n",
    "    print(i)\n",
    "    print(train[i].value_counts())\n",
    "    print(\"*********************\\n\")\n"
   ]
  },
  {
   "cell_type": "markdown",
   "metadata": {},
   "source": [
    "### Note!!\n",
    "- \"Item_Fat_Content\" >> has same values with different labels need to be adjusted\n",
    "- [HINT FROM PREVIOUS WORK IN KAGGLE (hiralmshah)]\"Item_Identifier\" of each item start with ['fd' or 'dr' or 'nc'] >> can be used as item type identifier for FOOD , Drink, Non-Consumable \n",
    "- drop useless columns\n"
   ]
  },
  {
   "cell_type": "code",
   "execution_count": 41,
   "metadata": {
    "execution": {
     "iopub.execute_input": "2023-07-10T08:32:43.135422Z",
     "iopub.status.busy": "2023-07-10T08:32:43.135060Z",
     "iopub.status.idle": "2023-07-10T08:32:43.145249Z",
     "shell.execute_reply": "2023-07-10T08:32:43.143715Z",
     "shell.execute_reply.started": "2023-07-10T08:32:43.135386Z"
    }
   },
   "outputs": [],
   "source": [
    "## adjusting values of fat_content\n",
    "train['Item_Fat_Content']= train['Item_Fat_Content'].apply(lambda x: \"Regular\" if x=='reg' or x == 'Regular' else 'Low Fat')\n"
   ]
  },
  {
   "cell_type": "code",
   "execution_count": 42,
   "metadata": {
    "execution": {
     "iopub.execute_input": "2023-07-10T08:32:43.147762Z",
     "iopub.status.busy": "2023-07-10T08:32:43.147224Z",
     "iopub.status.idle": "2023-07-10T08:32:43.171786Z",
     "shell.execute_reply": "2023-07-10T08:32:43.170429Z",
     "shell.execute_reply.started": "2023-07-10T08:32:43.147704Z"
    }
   },
   "outputs": [
    {
     "data": {
      "text/plain": [
       "FD    6125\n",
       "NC    1599\n",
       "DR     799\n",
       "Name: Item_Identifier, dtype: int64"
      ]
     },
     "execution_count": 42,
     "metadata": {},
     "output_type": "execute_result"
    }
   ],
   "source": [
    "## item identifier classification\n",
    "train['Item_Identifier'].str[:2].value_counts()"
   ]
  },
  {
   "cell_type": "code",
   "execution_count": 43,
   "metadata": {
    "execution": {
     "iopub.execute_input": "2023-07-10T08:32:43.174653Z",
     "iopub.status.busy": "2023-07-10T08:32:43.173288Z",
     "iopub.status.idle": "2023-07-10T08:32:43.190763Z",
     "shell.execute_reply": "2023-07-10T08:32:43.189249Z",
     "shell.execute_reply.started": "2023-07-10T08:32:43.174584Z"
    }
   },
   "outputs": [
    {
     "data": {
      "text/plain": [
       "Food              6125\n",
       "Non-Consumable    1599\n",
       "Drink              799\n",
       "Name: Item_ID_Type, dtype: int64"
      ]
     },
     "execution_count": 43,
     "metadata": {},
     "output_type": "execute_result"
    }
   ],
   "source": [
    "## exctracting items_type_classification column from Item_identitfier\n",
    "train['Item_ID_Type']=train['Item_Identifier'].apply(lambda x: \"Food\" if x[:2] =='FD' \n",
    "                                               else( \"Drink\" if x[:2]=='DR' else \"Non-Consumable\") )\n",
    "train['Item_ID_Type'].value_counts()"
   ]
  },
  {
   "cell_type": "code",
   "execution_count": 44,
   "metadata": {
    "execution": {
     "iopub.execute_input": "2023-07-10T08:32:43.195052Z",
     "iopub.status.busy": "2023-07-10T08:32:43.193160Z",
     "iopub.status.idle": "2023-07-10T08:32:43.204552Z",
     "shell.execute_reply": "2023-07-10T08:32:43.203461Z",
     "shell.execute_reply.started": "2023-07-10T08:32:43.194980Z"
    }
   },
   "outputs": [],
   "source": [
    "## delete \"Outlet_Establishment_Year\" column\n",
    "train.drop(columns=['Outlet_Establishment_Year','Item_Type'], inplace=True)"
   ]
  },
  {
   "cell_type": "code",
   "execution_count": 45,
   "metadata": {
    "execution": {
     "iopub.execute_input": "2023-07-10T08:32:43.207002Z",
     "iopub.status.busy": "2023-07-10T08:32:43.206277Z",
     "iopub.status.idle": "2023-07-10T08:32:43.228480Z",
     "shell.execute_reply": "2023-07-10T08:32:43.227061Z",
     "shell.execute_reply.started": "2023-07-10T08:32:43.206961Z"
    }
   },
   "outputs": [
    {
     "name": "stdout",
     "output_type": "stream",
     "text": [
      "<class 'pandas.core.frame.DataFrame'>\n",
      "RangeIndex: 8523 entries, 0 to 8522\n",
      "Data columns (total 12 columns):\n",
      " #   Column                Non-Null Count  Dtype  \n",
      "---  ------                --------------  -----  \n",
      " 0   Item_Identifier       8523 non-null   object \n",
      " 1   Item_Weight           8523 non-null   float64\n",
      " 2   Item_Fat_Content      8523 non-null   object \n",
      " 3   Item_Visibility       8523 non-null   float64\n",
      " 4   Item_MRP              8523 non-null   float64\n",
      " 5   Outlet_Identifier     8523 non-null   object \n",
      " 6   Outlet_Size           8523 non-null   object \n",
      " 7   Outlet_Location_Type  8523 non-null   object \n",
      " 8   Outlet_Type           8523 non-null   object \n",
      " 9   Item_Outlet_Sales     8523 non-null   float64\n",
      " 10  Outlet_Age            8523 non-null   int64  \n",
      " 11  Item_ID_Type          8523 non-null   object \n",
      "dtypes: float64(4), int64(1), object(7)\n",
      "memory usage: 799.2+ KB\n"
     ]
    }
   ],
   "source": [
    "train.info()"
   ]
  },
  {
   "cell_type": "markdown",
   "metadata": {},
   "source": [
    "### start changing categories data to numerical"
   ]
  },
  {
   "cell_type": "code",
   "execution_count": 46,
   "metadata": {
    "execution": {
     "iopub.execute_input": "2023-07-10T08:32:43.231209Z",
     "iopub.status.busy": "2023-07-10T08:32:43.230686Z",
     "iopub.status.idle": "2023-07-10T08:32:43.282578Z",
     "shell.execute_reply": "2023-07-10T08:32:43.281437Z",
     "shell.execute_reply.started": "2023-07-10T08:32:43.231152Z"
    }
   },
   "outputs": [
    {
     "data": {
      "text/html": [
       "<div>\n",
       "<style scoped>\n",
       "    .dataframe tbody tr th:only-of-type {\n",
       "        vertical-align: middle;\n",
       "    }\n",
       "\n",
       "    .dataframe tbody tr th {\n",
       "        vertical-align: top;\n",
       "    }\n",
       "\n",
       "    .dataframe thead th {\n",
       "        text-align: right;\n",
       "    }\n",
       "</style>\n",
       "<table border=\"1\" class=\"dataframe\">\n",
       "  <thead>\n",
       "    <tr style=\"text-align: right;\">\n",
       "      <th></th>\n",
       "      <th>Item_Identifier</th>\n",
       "      <th>Item_Weight</th>\n",
       "      <th>Item_Fat_Content</th>\n",
       "      <th>Item_Visibility</th>\n",
       "      <th>Item_MRP</th>\n",
       "      <th>Outlet_Identifier</th>\n",
       "      <th>Outlet_Size</th>\n",
       "      <th>Outlet_Location_Type</th>\n",
       "      <th>Outlet_Type</th>\n",
       "      <th>Item_Outlet_Sales</th>\n",
       "      <th>Outlet_Age</th>\n",
       "      <th>Item_ID_Type</th>\n",
       "    </tr>\n",
       "  </thead>\n",
       "  <tbody>\n",
       "    <tr>\n",
       "      <th>0</th>\n",
       "      <td>156</td>\n",
       "      <td>9.300</td>\n",
       "      <td>0</td>\n",
       "      <td>0.016047</td>\n",
       "      <td>249.8092</td>\n",
       "      <td>9</td>\n",
       "      <td>1</td>\n",
       "      <td>0</td>\n",
       "      <td>1</td>\n",
       "      <td>3735.1380</td>\n",
       "      <td>20</td>\n",
       "      <td>1</td>\n",
       "    </tr>\n",
       "    <tr>\n",
       "      <th>1</th>\n",
       "      <td>8</td>\n",
       "      <td>5.920</td>\n",
       "      <td>1</td>\n",
       "      <td>0.019278</td>\n",
       "      <td>48.2692</td>\n",
       "      <td>3</td>\n",
       "      <td>1</td>\n",
       "      <td>2</td>\n",
       "      <td>2</td>\n",
       "      <td>443.4228</td>\n",
       "      <td>10</td>\n",
       "      <td>0</td>\n",
       "    </tr>\n",
       "    <tr>\n",
       "      <th>2</th>\n",
       "      <td>662</td>\n",
       "      <td>17.500</td>\n",
       "      <td>0</td>\n",
       "      <td>0.016760</td>\n",
       "      <td>141.6180</td>\n",
       "      <td>9</td>\n",
       "      <td>1</td>\n",
       "      <td>0</td>\n",
       "      <td>1</td>\n",
       "      <td>2097.2700</td>\n",
       "      <td>20</td>\n",
       "      <td>1</td>\n",
       "    </tr>\n",
       "    <tr>\n",
       "      <th>3</th>\n",
       "      <td>1121</td>\n",
       "      <td>19.200</td>\n",
       "      <td>1</td>\n",
       "      <td>0.066132</td>\n",
       "      <td>182.0950</td>\n",
       "      <td>0</td>\n",
       "      <td>1</td>\n",
       "      <td>2</td>\n",
       "      <td>0</td>\n",
       "      <td>732.3800</td>\n",
       "      <td>21</td>\n",
       "      <td>1</td>\n",
       "    </tr>\n",
       "    <tr>\n",
       "      <th>4</th>\n",
       "      <td>1297</td>\n",
       "      <td>8.930</td>\n",
       "      <td>0</td>\n",
       "      <td>0.066132</td>\n",
       "      <td>53.8614</td>\n",
       "      <td>1</td>\n",
       "      <td>0</td>\n",
       "      <td>2</td>\n",
       "      <td>1</td>\n",
       "      <td>994.7052</td>\n",
       "      <td>32</td>\n",
       "      <td>2</td>\n",
       "    </tr>\n",
       "    <tr>\n",
       "      <th>...</th>\n",
       "      <td>...</td>\n",
       "      <td>...</td>\n",
       "      <td>...</td>\n",
       "      <td>...</td>\n",
       "      <td>...</td>\n",
       "      <td>...</td>\n",
       "      <td>...</td>\n",
       "      <td>...</td>\n",
       "      <td>...</td>\n",
       "      <td>...</td>\n",
       "      <td>...</td>\n",
       "      <td>...</td>\n",
       "    </tr>\n",
       "    <tr>\n",
       "      <th>8518</th>\n",
       "      <td>370</td>\n",
       "      <td>6.865</td>\n",
       "      <td>0</td>\n",
       "      <td>0.056783</td>\n",
       "      <td>214.5218</td>\n",
       "      <td>1</td>\n",
       "      <td>0</td>\n",
       "      <td>2</td>\n",
       "      <td>1</td>\n",
       "      <td>2778.3834</td>\n",
       "      <td>32</td>\n",
       "      <td>1</td>\n",
       "    </tr>\n",
       "    <tr>\n",
       "      <th>8519</th>\n",
       "      <td>897</td>\n",
       "      <td>8.380</td>\n",
       "      <td>1</td>\n",
       "      <td>0.046982</td>\n",
       "      <td>108.1570</td>\n",
       "      <td>7</td>\n",
       "      <td>2</td>\n",
       "      <td>1</td>\n",
       "      <td>1</td>\n",
       "      <td>549.2850</td>\n",
       "      <td>17</td>\n",
       "      <td>1</td>\n",
       "    </tr>\n",
       "    <tr>\n",
       "      <th>8520</th>\n",
       "      <td>1357</td>\n",
       "      <td>10.600</td>\n",
       "      <td>0</td>\n",
       "      <td>0.035186</td>\n",
       "      <td>85.1224</td>\n",
       "      <td>6</td>\n",
       "      <td>2</td>\n",
       "      <td>1</td>\n",
       "      <td>1</td>\n",
       "      <td>1193.1136</td>\n",
       "      <td>15</td>\n",
       "      <td>2</td>\n",
       "    </tr>\n",
       "    <tr>\n",
       "      <th>8521</th>\n",
       "      <td>681</td>\n",
       "      <td>7.210</td>\n",
       "      <td>1</td>\n",
       "      <td>0.145221</td>\n",
       "      <td>103.1332</td>\n",
       "      <td>3</td>\n",
       "      <td>1</td>\n",
       "      <td>2</td>\n",
       "      <td>2</td>\n",
       "      <td>1845.5976</td>\n",
       "      <td>10</td>\n",
       "      <td>1</td>\n",
       "    </tr>\n",
       "    <tr>\n",
       "      <th>8522</th>\n",
       "      <td>50</td>\n",
       "      <td>14.800</td>\n",
       "      <td>0</td>\n",
       "      <td>0.044878</td>\n",
       "      <td>75.4670</td>\n",
       "      <td>8</td>\n",
       "      <td>2</td>\n",
       "      <td>0</td>\n",
       "      <td>1</td>\n",
       "      <td>765.6700</td>\n",
       "      <td>22</td>\n",
       "      <td>0</td>\n",
       "    </tr>\n",
       "  </tbody>\n",
       "</table>\n",
       "<p>8523 rows × 12 columns</p>\n",
       "</div>"
      ],
      "text/plain": [
       "      Item_Identifier  Item_Weight  Item_Fat_Content  Item_Visibility  \\\n",
       "0                 156        9.300                 0         0.016047   \n",
       "1                   8        5.920                 1         0.019278   \n",
       "2                 662       17.500                 0         0.016760   \n",
       "3                1121       19.200                 1         0.066132   \n",
       "4                1297        8.930                 0         0.066132   \n",
       "...               ...          ...               ...              ...   \n",
       "8518              370        6.865                 0         0.056783   \n",
       "8519              897        8.380                 1         0.046982   \n",
       "8520             1357       10.600                 0         0.035186   \n",
       "8521              681        7.210                 1         0.145221   \n",
       "8522               50       14.800                 0         0.044878   \n",
       "\n",
       "      Item_MRP  Outlet_Identifier  Outlet_Size  Outlet_Location_Type  \\\n",
       "0     249.8092                  9            1                     0   \n",
       "1      48.2692                  3            1                     2   \n",
       "2     141.6180                  9            1                     0   \n",
       "3     182.0950                  0            1                     2   \n",
       "4      53.8614                  1            0                     2   \n",
       "...        ...                ...          ...                   ...   \n",
       "8518  214.5218                  1            0                     2   \n",
       "8519  108.1570                  7            2                     1   \n",
       "8520   85.1224                  6            2                     1   \n",
       "8521  103.1332                  3            1                     2   \n",
       "8522   75.4670                  8            2                     0   \n",
       "\n",
       "      Outlet_Type  Item_Outlet_Sales  Outlet_Age  Item_ID_Type  \n",
       "0               1          3735.1380          20             1  \n",
       "1               2           443.4228          10             0  \n",
       "2               1          2097.2700          20             1  \n",
       "3               0           732.3800          21             1  \n",
       "4               1           994.7052          32             2  \n",
       "...           ...                ...         ...           ...  \n",
       "8518            1          2778.3834          32             1  \n",
       "8519            1           549.2850          17             1  \n",
       "8520            1          1193.1136          15             2  \n",
       "8521            2          1845.5976          10             1  \n",
       "8522            1           765.6700          22             0  \n",
       "\n",
       "[8523 rows x 12 columns]"
      ]
     },
     "execution_count": 46,
     "metadata": {},
     "output_type": "execute_result"
    }
   ],
   "source": [
    "### using labelEncoder for ['Item_Identifier','Outlet_Identifier']\n",
    "lencod = LabelEncoder()\n",
    "ids = ['Item_Identifier','Outlet_Identifier','Item_Fat_Content','Outlet_Size','Outlet_Location_Type','Outlet_Type','Item_ID_Type']\n",
    "for i in ids:\n",
    "    train[i]=lencod.fit_transform(train[i])\n",
    "train"
   ]
  },
  {
   "cell_type": "code",
   "execution_count": 47,
   "metadata": {
    "execution": {
     "iopub.execute_input": "2023-07-10T08:32:43.284524Z",
     "iopub.status.busy": "2023-07-10T08:32:43.283920Z",
     "iopub.status.idle": "2023-07-10T08:32:43.308828Z",
     "shell.execute_reply": "2023-07-10T08:32:43.307308Z",
     "shell.execute_reply.started": "2023-07-10T08:32:43.284485Z"
    }
   },
   "outputs": [
    {
     "name": "stdout",
     "output_type": "stream",
     "text": [
      "<class 'pandas.core.frame.DataFrame'>\n",
      "RangeIndex: 8523 entries, 0 to 8522\n",
      "Data columns (total 22 columns):\n",
      " #   Column                  Non-Null Count  Dtype  \n",
      "---  ------                  --------------  -----  \n",
      " 0   Item_Identifier         8523 non-null   int64  \n",
      " 1   Item_Weight             8523 non-null   float64\n",
      " 2   Item_Visibility         8523 non-null   float64\n",
      " 3   Item_MRP                8523 non-null   float64\n",
      " 4   Outlet_Identifier       8523 non-null   int64  \n",
      " 5   Item_Outlet_Sales       8523 non-null   float64\n",
      " 6   Outlet_Age              8523 non-null   int64  \n",
      " 7   Item_Fat_Content_0      8523 non-null   uint8  \n",
      " 8   Item_Fat_Content_1      8523 non-null   uint8  \n",
      " 9   Outlet_Size_0           8523 non-null   uint8  \n",
      " 10  Outlet_Size_1           8523 non-null   uint8  \n",
      " 11  Outlet_Size_2           8523 non-null   uint8  \n",
      " 12  Outlet_Location_Type_0  8523 non-null   uint8  \n",
      " 13  Outlet_Location_Type_1  8523 non-null   uint8  \n",
      " 14  Outlet_Location_Type_2  8523 non-null   uint8  \n",
      " 15  Outlet_Type_0           8523 non-null   uint8  \n",
      " 16  Outlet_Type_1           8523 non-null   uint8  \n",
      " 17  Outlet_Type_2           8523 non-null   uint8  \n",
      " 18  Outlet_Type_3           8523 non-null   uint8  \n",
      " 19  Item_ID_Type_0          8523 non-null   uint8  \n",
      " 20  Item_ID_Type_1          8523 non-null   uint8  \n",
      " 21  Item_ID_Type_2          8523 non-null   uint8  \n",
      "dtypes: float64(4), int64(3), uint8(15)\n",
      "memory usage: 591.1 KB\n"
     ]
    }
   ],
   "source": [
    "### using get_dummies to make one hot encoding for ther other categorical columns\n",
    "lb = OneHotEncoder()\n",
    "cat_cols = ['Item_Fat_Content','Outlet_Size','Outlet_Location_Type','Outlet_Type','Item_ID_Type']\n",
    "\n",
    "train = pd.get_dummies(train,columns=cat_cols)\n",
    "    \n",
    "train.info()"
   ]
  },
  {
   "cell_type": "code",
   "execution_count": null,
   "metadata": {},
   "outputs": [],
   "source": []
  },
  {
   "cell_type": "markdown",
   "metadata": {},
   "source": [
    "# Pipline\n",
    "- for the test dataframe to apply all changes that we done to train df"
   ]
  },
  {
   "cell_type": "markdown",
   "metadata": {},
   "source": [
    "### create pipline function for test df"
   ]
  },
  {
   "cell_type": "code",
   "execution_count": 48,
   "metadata": {
    "execution": {
     "iopub.execute_input": "2023-07-10T08:32:43.314675Z",
     "iopub.status.busy": "2023-07-10T08:32:43.313410Z",
     "iopub.status.idle": "2023-07-10T08:32:43.328768Z",
     "shell.execute_reply": "2023-07-10T08:32:43.327206Z",
     "shell.execute_reply.started": "2023-07-10T08:32:43.314616Z"
    }
   },
   "outputs": [],
   "source": [
    "def pipline(in_df):\n",
    "    #so \"Outlet_Size\" of ['OUT045', 'OUT017'] will be >> \"Small\" and last one will be  'Medium'\n",
    "    in_df.loc[(in_df['Outlet_Size'].isnull() ==True) &(in_df['Outlet_Identifier'] != 'OUT010'),\"Outlet_Size\"] = \"Small\"\n",
    "    in_df.loc[(in_df['Outlet_Size'].isnull() ==True) &(in_df['Outlet_Identifier'] == 'OUT010'),\"Outlet_Size\"] = \"Medium\"\n",
    "    \n",
    "    ### tryin another approach for handling missing in item weights\n",
    "    cols = ['Item_Visibility','Item_MRP','Item_Weight']\n",
    "    x = in_df[cols]\n",
    "    impute_it = IterativeImputer()\n",
    "    x = impute_it.fit_transform(x)\n",
    "    in_df['Item_Weight'] = x[:,2]\n",
    "    \n",
    "    ## change the minimum values of \"Item_Visibility\" by giving them mean value\n",
    "    in_df.loc[in_df['Item_Visibility']==0, 'Item_Visibility'] = in_df['Item_Visibility'].mean()\n",
    "    \n",
    "    #extract number of years for each outlet \n",
    "    in_df['Outlet_Age'] = 2019 - in_df['Outlet_Establishment_Year']\n",
    "    \n",
    "\n",
    "    ## adjusting values of fat_content\n",
    "    in_df['Item_Fat_Content']= in_df['Item_Fat_Content'].apply(lambda x: \"Regular\" if x=='reg' or x == 'Regular' else 'Low Fat')\n",
    "    \n",
    "    ## exctracting items_type_classification column from Item_identitfier\n",
    "    in_df['Item_ID_Type']=in_df['Item_Identifier'].apply(lambda x: \"Food\" if x[:2] =='FD' \n",
    "                                               else( \"Drink\" if x[:2]=='DR' else \"Non-Consumable\") )\n",
    "    \n",
    "    ## delete \"Outlet_Establishment_Year\" and 'Item_Type' columns\n",
    "    in_df.drop(columns=['Outlet_Establishment_Year','Item_Type'], inplace=True)\n",
    "    \n",
    "    \n",
    "    \n",
    "    #start encoding columns\n",
    "    ##start with labelencoding\n",
    "    ids = ['Item_Identifier','Outlet_Identifier','Item_Fat_Content','Outlet_Size'\n",
    "           ,'Outlet_Location_Type','Outlet_Type','Item_ID_Type']\n",
    "    for i in ids:\n",
    "        in_df[i]=lencod.fit_transform(in_df[i])\n",
    "        \n",
    "    \n",
    "    ### using get_dummies to make one hot encoding for ther other categorical columns\n",
    "    cat_cols = ['Item_Fat_Content','Outlet_Size','Outlet_Location_Type','Outlet_Type','Item_ID_Type']\n",
    "    in_df = pd.get_dummies(in_df,columns=cat_cols)\n",
    "    \n",
    "    out_df = in_df.copy()\n",
    "    return out_df"
   ]
  },
  {
   "cell_type": "code",
   "execution_count": 49,
   "metadata": {
    "execution": {
     "iopub.execute_input": "2023-07-10T08:32:43.331793Z",
     "iopub.status.busy": "2023-07-10T08:32:43.330968Z",
     "iopub.status.idle": "2023-07-10T08:32:43.450566Z",
     "shell.execute_reply": "2023-07-10T08:32:43.449091Z",
     "shell.execute_reply.started": "2023-07-10T08:32:43.331731Z"
    }
   },
   "outputs": [
    {
     "name": "stdout",
     "output_type": "stream",
     "text": [
      "<class 'pandas.core.frame.DataFrame'>\n",
      "RangeIndex: 5681 entries, 0 to 5680\n",
      "Data columns (total 21 columns):\n",
      " #   Column                  Non-Null Count  Dtype  \n",
      "---  ------                  --------------  -----  \n",
      " 0   Item_Identifier         5681 non-null   int64  \n",
      " 1   Item_Weight             5681 non-null   float64\n",
      " 2   Item_Visibility         5681 non-null   float64\n",
      " 3   Item_MRP                5681 non-null   float64\n",
      " 4   Outlet_Identifier       5681 non-null   int64  \n",
      " 5   Outlet_Age              5681 non-null   int64  \n",
      " 6   Item_Fat_Content_0      5681 non-null   uint8  \n",
      " 7   Item_Fat_Content_1      5681 non-null   uint8  \n",
      " 8   Outlet_Size_0           5681 non-null   uint8  \n",
      " 9   Outlet_Size_1           5681 non-null   uint8  \n",
      " 10  Outlet_Size_2           5681 non-null   uint8  \n",
      " 11  Outlet_Location_Type_0  5681 non-null   uint8  \n",
      " 12  Outlet_Location_Type_1  5681 non-null   uint8  \n",
      " 13  Outlet_Location_Type_2  5681 non-null   uint8  \n",
      " 14  Outlet_Type_0           5681 non-null   uint8  \n",
      " 15  Outlet_Type_1           5681 non-null   uint8  \n",
      " 16  Outlet_Type_2           5681 non-null   uint8  \n",
      " 17  Outlet_Type_3           5681 non-null   uint8  \n",
      " 18  Item_ID_Type_0          5681 non-null   uint8  \n",
      " 19  Item_ID_Type_1          5681 non-null   uint8  \n",
      " 20  Item_ID_Type_2          5681 non-null   uint8  \n",
      "dtypes: float64(3), int64(3), uint8(15)\n",
      "memory usage: 349.6 KB\n"
     ]
    }
   ],
   "source": [
    "mod_test = pipline(test)\n",
    "mod_test.info()"
   ]
  },
  {
   "cell_type": "code",
   "execution_count": null,
   "metadata": {},
   "outputs": [],
   "source": []
  },
  {
   "cell_type": "markdown",
   "metadata": {},
   "source": [
    "# start creating ML model"
   ]
  },
  {
   "cell_type": "code",
   "execution_count": 50,
   "metadata": {
    "execution": {
     "iopub.execute_input": "2023-07-10T08:32:43.463834Z",
     "iopub.status.busy": "2023-07-10T08:32:43.459828Z",
     "iopub.status.idle": "2023-07-10T08:32:43.491040Z",
     "shell.execute_reply": "2023-07-10T08:32:43.489598Z",
     "shell.execute_reply.started": "2023-07-10T08:32:43.463751Z"
    }
   },
   "outputs": [
    {
     "data": {
      "text/plain": [
       "((5710, 21), (5710,))"
      ]
     },
     "execution_count": 50,
     "metadata": {},
     "output_type": "execute_result"
    }
   ],
   "source": [
    "# split target vector\n",
    "y = train['Item_Outlet_Sales'].copy()\n",
    "X = train.drop(columns='Item_Outlet_Sales')\n",
    "\n",
    "### first will split train to 4 \n",
    "X_train, X_test, y_train, y_test = train_test_split(X, y, test_size=0.33, random_state=20)\n",
    "\n",
    "X_train.shape , y_train.shape"
   ]
  },
  {
   "cell_type": "markdown",
   "metadata": {},
   "source": [
    "# linear regression model "
   ]
  },
  {
   "cell_type": "code",
   "execution_count": 51,
   "metadata": {
    "execution": {
     "iopub.execute_input": "2023-07-10T08:32:43.497455Z",
     "iopub.status.busy": "2023-07-10T08:32:43.496674Z",
     "iopub.status.idle": "2023-07-10T08:32:43.522766Z",
     "shell.execute_reply": "2023-07-10T08:32:43.521396Z",
     "shell.execute_reply.started": "2023-07-10T08:32:43.497405Z"
    }
   },
   "outputs": [
    {
     "data": {
      "text/plain": [
       "LinearRegression()"
      ]
     },
     "execution_count": 51,
     "metadata": {},
     "output_type": "execute_result"
    }
   ],
   "source": [
    "\n",
    "lg = LinearRegression()\n",
    "\n",
    "lg.fit(X_train, y_train)"
   ]
  },
  {
   "cell_type": "code",
   "execution_count": 52,
   "metadata": {
    "execution": {
     "iopub.execute_input": "2023-07-10T08:32:43.525938Z",
     "iopub.status.busy": "2023-07-10T08:32:43.524985Z",
     "iopub.status.idle": "2023-07-10T08:32:43.539073Z",
     "shell.execute_reply": "2023-07-10T08:32:43.537649Z",
     "shell.execute_reply.started": "2023-07-10T08:32:43.525884Z"
    }
   },
   "outputs": [
    {
     "name": "stdout",
     "output_type": "stream",
     "text": [
      "Linear Regression Score: 0.5843561430591684\n"
     ]
    }
   ],
   "source": [
    "#checking the score\n",
    "print(f\"Linear Regression Score: {lg.score(X_train, y_train)}\")"
   ]
  },
  {
   "cell_type": "markdown",
   "metadata": {},
   "source": [
    "**- it's low score but can be a start for tuning the model**"
   ]
  },
  {
   "cell_type": "markdown",
   "metadata": {},
   "source": [
    "*** now will get the y_pred and compare error with y_test**"
   ]
  },
  {
   "cell_type": "code",
   "execution_count": 53,
   "metadata": {
    "execution": {
     "iopub.execute_input": "2023-07-10T08:32:43.542392Z",
     "iopub.status.busy": "2023-07-10T08:32:43.541353Z",
     "iopub.status.idle": "2023-07-10T08:32:43.558649Z",
     "shell.execute_reply": "2023-07-10T08:32:43.557196Z",
     "shell.execute_reply.started": "2023-07-10T08:32:43.542317Z"
    }
   },
   "outputs": [
    {
     "data": {
      "text/plain": [
       "array([1763.40401928, 3562.18926438,  953.79864805, ..., 1959.88160708,\n",
       "       3085.52871401, 2338.45946117])"
      ]
     },
     "execution_count": 53,
     "metadata": {},
     "output_type": "execute_result"
    }
   ],
   "source": [
    "y_pred = lg.predict(X_test)\n",
    "y_pred"
   ]
  },
  {
   "cell_type": "code",
   "execution_count": 54,
   "metadata": {
    "execution": {
     "iopub.execute_input": "2023-07-10T08:32:43.569313Z",
     "iopub.status.busy": "2023-07-10T08:32:43.565593Z",
     "iopub.status.idle": "2023-07-10T08:32:43.586292Z",
     "shell.execute_reply": "2023-07-10T08:32:43.584873Z",
     "shell.execute_reply.started": "2023-07-10T08:32:43.569235Z"
    }
   },
   "outputs": [
    {
     "data": {
      "text/plain": [
       "3325     998.7000\n",
       "3504    4122.6336\n",
       "2244     188.4214\n",
       "2783    2680.5108\n",
       "3326    3478.8050\n",
       "          ...    \n",
       "7721    1155.8288\n",
       "6053    2570.6538\n",
       "7022    2073.3012\n",
       "4543    5195.2374\n",
       "1261    2681.8424\n",
       "Name: Item_Outlet_Sales, Length: 2813, dtype: float64"
      ]
     },
     "execution_count": 54,
     "metadata": {},
     "output_type": "execute_result"
    }
   ],
   "source": [
    "y_test"
   ]
  },
  {
   "cell_type": "code",
   "execution_count": 55,
   "metadata": {
    "execution": {
     "iopub.execute_input": "2023-07-10T08:32:43.598694Z",
     "iopub.status.busy": "2023-07-10T08:32:43.593669Z",
     "iopub.status.idle": "2023-07-10T08:32:43.614910Z",
     "shell.execute_reply": "2023-07-10T08:32:43.613437Z",
     "shell.execute_reply.started": "2023-07-10T08:32:43.598605Z"
    }
   },
   "outputs": [
    {
     "name": "stdout",
     "output_type": "stream",
     "text": [
      "Mean Squared Error for Regression: 977083.2100553424\n",
      "Root Mean Squared Error: 988.4751944562607\n"
     ]
    }
   ],
   "source": [
    "# checking the mean squared error and root mean squared error\n",
    "mse = mean_squared_error(y_test, y_pred)\n",
    "rmse = mean_squared_error(y_test, y_pred, squared=False)\n",
    "\n",
    "print(f\"Mean Squared Error for Regression: {mse}\")\n",
    "print(f\"Root Mean Squared Error: {rmse}\")"
   ]
  },
  {
   "cell_type": "markdown",
   "metadata": {},
   "source": [
    "#### well, is not a satisfying error but the range of median values of set item range between 850 to 3100.\n",
    "- so this model need to be adjusted by standerizing the numerical columns using Standerization "
   ]
  },
  {
   "cell_type": "markdown",
   "metadata": {},
   "source": [
    "- Now i will proceed with different model (DecisionTreeRegressor)"
   ]
  },
  {
   "cell_type": "markdown",
   "metadata": {},
   "source": [
    "# DecisionTreeRegressor"
   ]
  },
  {
   "cell_type": "code",
   "execution_count": 56,
   "metadata": {
    "execution": {
     "iopub.execute_input": "2023-07-10T08:32:43.624856Z",
     "iopub.status.busy": "2023-07-10T08:32:43.622997Z",
     "iopub.status.idle": "2023-07-10T08:32:43.708807Z",
     "shell.execute_reply": "2023-07-10T08:32:43.707498Z",
     "shell.execute_reply.started": "2023-07-10T08:32:43.624783Z"
    }
   },
   "outputs": [
    {
     "data": {
      "text/plain": [
       "1.0"
      ]
     },
     "execution_count": 56,
     "metadata": {},
     "output_type": "execute_result"
    }
   ],
   "source": [
    "tree_reg =DecisionTreeRegressor()\n",
    "\n",
    "tree_reg.fit(X_train, y_train)\n",
    "\n",
    "#checking score \n",
    "tree_reg.score(X_train, y_train)"
   ]
  },
  {
   "cell_type": "code",
   "execution_count": 57,
   "metadata": {
    "execution": {
     "iopub.execute_input": "2023-07-10T08:32:43.710509Z",
     "iopub.status.busy": "2023-07-10T08:32:43.710123Z",
     "iopub.status.idle": "2023-07-10T08:32:43.723316Z",
     "shell.execute_reply": "2023-07-10T08:32:43.721663Z",
     "shell.execute_reply.started": "2023-07-10T08:32:43.710472Z"
    }
   },
   "outputs": [
    {
     "data": {
      "text/plain": [
       "1389.0018394597914"
      ]
     },
     "execution_count": 57,
     "metadata": {},
     "output_type": "execute_result"
    }
   ],
   "source": [
    "y_pred_tree = tree_reg.predict(X_test)\n",
    "tree_mse = mean_squared_error(y_test, y_pred_tree)\n",
    "tree_rmse = np.sqrt(tree_mse)\n",
    "tree_rmse"
   ]
  },
  {
   "cell_type": "markdown",
   "metadata": {},
   "source": [
    "#### cannot use \"DecisionTreeRegressor\" as it overfitting"
   ]
  },
  {
   "cell_type": "markdown",
   "metadata": {},
   "source": [
    "#### using RandomForestRegressor model "
   ]
  },
  {
   "cell_type": "markdown",
   "metadata": {},
   "source": [
    "# RandomForestRegressor model"
   ]
  },
  {
   "cell_type": "code",
   "execution_count": 58,
   "metadata": {
    "execution": {
     "iopub.execute_input": "2023-07-10T08:32:43.726781Z",
     "iopub.status.busy": "2023-07-10T08:32:43.725819Z",
     "iopub.status.idle": "2023-07-10T08:32:47.214602Z",
     "shell.execute_reply": "2023-07-10T08:32:47.212843Z",
     "shell.execute_reply.started": "2023-07-10T08:32:43.726735Z"
    }
   },
   "outputs": [
    {
     "name": "stdout",
     "output_type": "stream",
     "text": [
      "score of Random Forest Regressor model: 0.9396675150803213\n"
     ]
    }
   ],
   "source": [
    "forest_reg = RandomForestRegressor()\n",
    "\n",
    "forest_reg.fit(X_train, y_train)\n",
    "\n",
    "#checking score\n",
    "print(f\"score of Random Forest Regressor model: {forest_reg.score(X_train, y_train)}\")\n"
   ]
  },
  {
   "cell_type": "code",
   "execution_count": 59,
   "metadata": {
    "execution": {
     "iopub.execute_input": "2023-07-10T08:32:47.216762Z",
     "iopub.status.busy": "2023-07-10T08:32:47.216223Z",
     "iopub.status.idle": "2023-07-10T08:32:47.317770Z",
     "shell.execute_reply": "2023-07-10T08:32:47.316517Z",
     "shell.execute_reply.started": "2023-07-10T08:32:47.216721Z"
    }
   },
   "outputs": [
    {
     "name": "stdout",
     "output_type": "stream",
     "text": [
      "Root Mean Squared Error: 997.5279554065327\n"
     ]
    }
   ],
   "source": [
    "y_pred_forest = forest_reg.predict(X_test)\n",
    "forest_mse = mean_squared_error(y_test, y_pred_forest)\n",
    "forest_rmse = np.sqrt(forest_mse)\n",
    "\n",
    "print(f\"Root Mean Squared Error: {forest_rmse}\")"
   ]
  },
  {
   "cell_type": "markdown",
   "metadata": {},
   "source": [
    "### - the error of linear regression model still the lowest between the other models.\n",
    "\n",
    "- however that, i will use Cross Validation with 10 folds to check these scores "
   ]
  },
  {
   "cell_type": "markdown",
   "metadata": {},
   "source": [
    "# Evaluation both models using Cross-Validation"
   ]
  },
  {
   "cell_type": "code",
   "execution_count": 60,
   "metadata": {
    "execution": {
     "iopub.execute_input": "2023-07-10T08:32:47.319802Z",
     "iopub.status.busy": "2023-07-10T08:32:47.319309Z",
     "iopub.status.idle": "2023-07-10T08:32:47.459936Z",
     "shell.execute_reply": "2023-07-10T08:32:47.458473Z",
     "shell.execute_reply.started": "2023-07-10T08:32:47.319757Z"
    }
   },
   "outputs": [],
   "source": [
    "lrg_scores = cross_val_score(lg, X_train, y_train,scoring=\"neg_mean_squared_error\", cv=10)\n",
    "lrg_rmse_scores = np.sqrt(-lrg_scores)"
   ]
  },
  {
   "cell_type": "code",
   "execution_count": 61,
   "metadata": {
    "execution": {
     "iopub.execute_input": "2023-07-10T08:32:47.463249Z",
     "iopub.status.busy": "2023-07-10T08:32:47.462166Z",
     "iopub.status.idle": "2023-07-10T08:32:48.024317Z",
     "shell.execute_reply": "2023-07-10T08:32:48.022844Z",
     "shell.execute_reply.started": "2023-07-10T08:32:47.463188Z"
    }
   },
   "outputs": [],
   "source": [
    "tree_scores = cross_val_score(tree_reg, X_train, y_train,scoring=\"neg_mean_squared_error\", cv=10)\n",
    "tree_rmse_scores = np.sqrt(-tree_scores)\n"
   ]
  },
  {
   "cell_type": "code",
   "execution_count": 62,
   "metadata": {
    "execution": {
     "iopub.execute_input": "2023-07-10T08:32:48.026292Z",
     "iopub.status.busy": "2023-07-10T08:32:48.025759Z",
     "iopub.status.idle": "2023-07-10T08:32:48.033350Z",
     "shell.execute_reply": "2023-07-10T08:32:48.031335Z",
     "shell.execute_reply.started": "2023-07-10T08:32:48.026248Z"
    }
   },
   "outputs": [],
   "source": [
    "def display_scores(scores):\n",
    "    print(\"Scores: \", scores)\n",
    "    print(\"\\nMean: \", scores.mean())\n",
    "    print(\"Standard deviation: \", scores.std())\n"
   ]
  },
  {
   "cell_type": "code",
   "execution_count": 63,
   "metadata": {
    "execution": {
     "iopub.execute_input": "2023-07-10T08:32:48.036406Z",
     "iopub.status.busy": "2023-07-10T08:32:48.035405Z",
     "iopub.status.idle": "2023-07-10T08:32:48.049695Z",
     "shell.execute_reply": "2023-07-10T08:32:48.048226Z",
     "shell.execute_reply.started": "2023-07-10T08:32:48.036329Z"
    },
    "scrolled": true
   },
   "outputs": [
    {
     "name": "stdout",
     "output_type": "stream",
     "text": [
      "Scores:  [1027.41493092  916.72664029 1000.32699825 1044.47147733 1014.83861537\n",
      "  979.39609179  984.62652956 1059.97915986 1011.49593858  982.09665094]\n",
      "\n",
      "Mean:  1002.1373032899119\n",
      "Standard deviation:  38.14368192383567\n"
     ]
    }
   ],
   "source": [
    "#showing scores of linear regression model\n",
    "display_scores(lrg_rmse_scores)"
   ]
  },
  {
   "cell_type": "code",
   "execution_count": 64,
   "metadata": {
    "execution": {
     "iopub.execute_input": "2023-07-10T08:32:48.052420Z",
     "iopub.status.busy": "2023-07-10T08:32:48.051558Z",
     "iopub.status.idle": "2023-07-10T08:32:48.066995Z",
     "shell.execute_reply": "2023-07-10T08:32:48.065590Z",
     "shell.execute_reply.started": "2023-07-10T08:32:48.052339Z"
    }
   },
   "outputs": [
    {
     "name": "stdout",
     "output_type": "stream",
     "text": [
      "Scores:  [1389.84617827 1300.94160029 1438.27072053 1371.36473059 1416.96651231\n",
      " 1377.96144691 1418.72827151 1426.33530071 1478.76404644 1325.96381807]\n",
      "\n",
      "Mean:  1394.5142625629717\n",
      "Standard deviation:  50.40074208306156\n"
     ]
    }
   ],
   "source": [
    "#showing scores of  model DecisionTreeRegressor\n",
    "display_scores(tree_rmse_scores)"
   ]
  },
  {
   "cell_type": "code",
   "execution_count": 65,
   "metadata": {
    "execution": {
     "iopub.execute_input": "2023-07-10T08:32:48.070393Z",
     "iopub.status.busy": "2023-07-10T08:32:48.068668Z",
     "iopub.status.idle": "2023-07-10T08:33:17.360008Z",
     "shell.execute_reply": "2023-07-10T08:33:17.358945Z",
     "shell.execute_reply.started": "2023-07-10T08:32:48.070317Z"
    },
    "scrolled": true
   },
   "outputs": [
    {
     "name": "stdout",
     "output_type": "stream",
     "text": [
      "Scores:  [1055.05746657  905.91098655 1025.35542668 1070.357687   1030.07059543\n",
      " 1004.40045842 1005.43015889 1068.37382995 1069.30574077 1020.60697073]\n",
      "\n",
      "Mean:  1025.4869320996922\n",
      "Standard deviation:  46.73043624857011\n"
     ]
    }
   ],
   "source": [
    "# get the scores validation using cross-validation\n",
    "forest_scores = cross_val_score(forest_reg, X_train, y_train,scoring=\"neg_mean_squared_error\", cv=10)\n",
    "forest_rmse_scores = np.sqrt(-forest_scores)\n",
    "# scores for RandomForestRegressor\n",
    "display_scores(forest_rmse_scores)"
   ]
  },
  {
   "cell_type": "markdown",
   "metadata": {},
   "source": [
    "# Fine-Tuning the models"
   ]
  },
  {
   "cell_type": "markdown",
   "metadata": {},
   "source": [
    "#### Using GridSearchCV"
   ]
  },
  {
   "cell_type": "markdown",
   "metadata": {},
   "source": [
    "- the following code searches for the best combi‐nation of hyperparameter values for the RandomForestRegressor"
   ]
  },
  {
   "cell_type": "code",
   "execution_count": 66,
   "metadata": {
    "execution": {
     "iopub.execute_input": "2023-07-10T08:33:17.362556Z",
     "iopub.status.busy": "2023-07-10T08:33:17.361786Z",
     "iopub.status.idle": "2023-07-10T08:33:27.849844Z",
     "shell.execute_reply": "2023-07-10T08:33:27.848584Z",
     "shell.execute_reply.started": "2023-07-10T08:33:17.362510Z"
    }
   },
   "outputs": [
    {
     "data": {
      "text/plain": [
       "GridSearchCV(cv=5, estimator=RandomForestRegressor(),\n",
       "             param_grid=[{'max_features': [2, 4, 6, 8],\n",
       "                          'n_estimators': [3, 10, 30]},\n",
       "                         {'bootstrap': [False], 'max_features': [2, 3, 4],\n",
       "                          'n_estimators': [3, 10]}],\n",
       "             scoring='neg_mean_squared_error')"
      ]
     },
     "execution_count": 66,
     "metadata": {},
     "output_type": "execute_result"
    }
   ],
   "source": [
    "param_grid = [\n",
    "{'n_estimators': [3, 10, 30], 'max_features': [2, 4, 6, 8]},\n",
    "{'bootstrap': [False], 'n_estimators': [3, 10], 'max_features': [2, 3, 4]},\n",
    "]\n",
    "\n",
    "grid_search = GridSearchCV(forest_reg, param_grid, cv=5,\n",
    "scoring='neg_mean_squared_error')\n",
    "grid_search.fit(X_train, y_train)"
   ]
  },
  {
   "cell_type": "code",
   "execution_count": 67,
   "metadata": {
    "execution": {
     "iopub.execute_input": "2023-07-10T08:33:27.852005Z",
     "iopub.status.busy": "2023-07-10T08:33:27.851297Z",
     "iopub.status.idle": "2023-07-10T08:33:27.860180Z",
     "shell.execute_reply": "2023-07-10T08:33:27.858231Z",
     "shell.execute_reply.started": "2023-07-10T08:33:27.851965Z"
    }
   },
   "outputs": [
    {
     "data": {
      "text/plain": [
       "{'max_features': 4, 'n_estimators': 30}"
      ]
     },
     "execution_count": 67,
     "metadata": {},
     "output_type": "execute_result"
    }
   ],
   "source": [
    "#### now showing the best combinations parameters\n",
    "grid_search.best_params_"
   ]
  },
  {
   "cell_type": "markdown",
   "metadata": {},
   "source": [
    "- so the best parameters for forest regressor is [{'max_features': 6, 'n_estimators': 30}]\n",
    "- the following code will show the all scores for each combined parameters and as we shown before we will use [{'max_features': 6, 'n_estimators': 30}]"
   ]
  },
  {
   "cell_type": "code",
   "execution_count": 68,
   "metadata": {
    "execution": {
     "iopub.execute_input": "2023-07-10T08:33:27.862222Z",
     "iopub.status.busy": "2023-07-10T08:33:27.861866Z",
     "iopub.status.idle": "2023-07-10T08:33:27.888034Z",
     "shell.execute_reply": "2023-07-10T08:33:27.886712Z",
     "shell.execute_reply.started": "2023-07-10T08:33:27.862189Z"
    }
   },
   "outputs": [
    {
     "name": "stdout",
     "output_type": "stream",
     "text": [
      "1184.694253693968 {'max_features': 2, 'n_estimators': 3}\n",
      "1073.2123237339754 {'max_features': 2, 'n_estimators': 10}\n",
      "1034.220707694751 {'max_features': 2, 'n_estimators': 30}\n",
      "1168.798328505971 {'max_features': 4, 'n_estimators': 3}\n",
      "1049.5222175637082 {'max_features': 4, 'n_estimators': 10}\n",
      "1014.487860034959 {'max_features': 4, 'n_estimators': 30}\n",
      "1138.48816158329 {'max_features': 6, 'n_estimators': 3}\n",
      "1035.5490440554995 {'max_features': 6, 'n_estimators': 10}\n",
      "1016.9909400655877 {'max_features': 6, 'n_estimators': 30}\n",
      "1152.247350706237 {'max_features': 8, 'n_estimators': 3}\n",
      "1043.6628094622317 {'max_features': 8, 'n_estimators': 10}\n",
      "1016.6819470483023 {'max_features': 8, 'n_estimators': 30}\n",
      "1187.5671384022069 {'bootstrap': False, 'max_features': 2, 'n_estimators': 3}\n",
      "1101.2494070906996 {'bootstrap': False, 'max_features': 2, 'n_estimators': 10}\n",
      "1164.1816522037634 {'bootstrap': False, 'max_features': 3, 'n_estimators': 3}\n",
      "1092.234069274787 {'bootstrap': False, 'max_features': 3, 'n_estimators': 10}\n",
      "1186.1048803792485 {'bootstrap': False, 'max_features': 4, 'n_estimators': 3}\n",
      "1075.0764202823032 {'bootstrap': False, 'max_features': 4, 'n_estimators': 10}\n"
     ]
    }
   ],
   "source": [
    "#showing the error score \n",
    "cvres = grid_search.cv_results_\n",
    "for mean_score, params in zip(cvres[\"mean_test_score\"], cvres[\"params\"]):\n",
    "    print(np.sqrt(-mean_score), params)"
   ]
  },
  {
   "cell_type": "markdown",
   "metadata": {},
   "source": [
    "- the linear regression model still have the best error value"
   ]
  },
  {
   "cell_type": "markdown",
   "metadata": {},
   "source": [
    "### from the previous 3 models, i will go with the LinearRegression model because it gave me the lowest error value with slight difference than the  RandomForestRegressor"
   ]
  },
  {
   "cell_type": "markdown",
   "metadata": {},
   "source": [
    "# Predicting new values\n",
    "#### now we will use it to predict the required column from test dataframe"
   ]
  },
  {
   "cell_type": "code",
   "execution_count": 69,
   "metadata": {
    "execution": {
     "iopub.execute_input": "2023-07-10T08:33:27.890230Z",
     "iopub.status.busy": "2023-07-10T08:33:27.889852Z",
     "iopub.status.idle": "2023-07-10T08:33:27.912098Z",
     "shell.execute_reply": "2023-07-10T08:33:27.910134Z",
     "shell.execute_reply.started": "2023-07-10T08:33:27.890194Z"
    }
   },
   "outputs": [],
   "source": [
    "### first we will scaling the test data\n",
    "scaler = StandardScaler()\n",
    "scaler.fit(mod_test)\n",
    "stnd_test = scaler.transform(mod_test)\n",
    "stnd_test = pd.DataFrame(data =stnd_test, columns=mod_test.columns )\n"
   ]
  },
  {
   "cell_type": "code",
   "execution_count": 70,
   "metadata": {
    "execution": {
     "iopub.execute_input": "2023-07-10T08:33:27.916602Z",
     "iopub.status.busy": "2023-07-10T08:33:27.916014Z",
     "iopub.status.idle": "2023-07-10T08:33:27.932411Z",
     "shell.execute_reply": "2023-07-10T08:33:27.930793Z",
     "shell.execute_reply.started": "2023-07-10T08:33:27.916544Z"
    }
   },
   "outputs": [
    {
     "data": {
      "text/plain": [
       "array([3663.96796766, 2589.31215133, 1974.10617106, ..., 2794.51460136,\n",
       "       2721.36331626, 3006.77388869])"
      ]
     },
     "execution_count": 70,
     "metadata": {},
     "output_type": "execute_result"
    }
   ],
   "source": [
    "##with mod_test data\n",
    "predicted = lg.predict(stnd_test)\n",
    "\n",
    "predicted"
   ]
  },
  {
   "cell_type": "code",
   "execution_count": 71,
   "metadata": {
    "execution": {
     "iopub.execute_input": "2023-07-10T08:33:27.935585Z",
     "iopub.status.busy": "2023-07-10T08:33:27.935035Z",
     "iopub.status.idle": "2023-07-10T08:33:27.991687Z",
     "shell.execute_reply": "2023-07-10T08:33:27.989825Z",
     "shell.execute_reply.started": "2023-07-10T08:33:27.935531Z"
    }
   },
   "outputs": [
    {
     "data": {
      "text/html": [
       "<div>\n",
       "<style scoped>\n",
       "    .dataframe tbody tr th:only-of-type {\n",
       "        vertical-align: middle;\n",
       "    }\n",
       "\n",
       "    .dataframe tbody tr th {\n",
       "        vertical-align: top;\n",
       "    }\n",
       "\n",
       "    .dataframe thead th {\n",
       "        text-align: right;\n",
       "    }\n",
       "</style>\n",
       "<table border=\"1\" class=\"dataframe\">\n",
       "  <thead>\n",
       "    <tr style=\"text-align: right;\">\n",
       "      <th></th>\n",
       "      <th>Item_Identifier</th>\n",
       "      <th>Item_Weight</th>\n",
       "      <th>Item_Visibility</th>\n",
       "      <th>Item_MRP</th>\n",
       "      <th>Outlet_Identifier</th>\n",
       "      <th>Outlet_Age</th>\n",
       "      <th>Item_Fat_Content_0</th>\n",
       "      <th>Item_Fat_Content_1</th>\n",
       "      <th>Outlet_Size_0</th>\n",
       "      <th>Outlet_Size_1</th>\n",
       "      <th>...</th>\n",
       "      <th>Outlet_Location_Type_0</th>\n",
       "      <th>Outlet_Location_Type_1</th>\n",
       "      <th>Outlet_Location_Type_2</th>\n",
       "      <th>Outlet_Type_0</th>\n",
       "      <th>Outlet_Type_1</th>\n",
       "      <th>Outlet_Type_2</th>\n",
       "      <th>Outlet_Type_3</th>\n",
       "      <th>Item_ID_Type_0</th>\n",
       "      <th>Item_ID_Type_1</th>\n",
       "      <th>Item_ID_Type_2</th>\n",
       "    </tr>\n",
       "  </thead>\n",
       "  <tbody>\n",
       "    <tr>\n",
       "      <th>0</th>\n",
       "      <td>0.739896</td>\n",
       "      <td>1.896764</td>\n",
       "      <td>-1.285395</td>\n",
       "      <td>-0.536555</td>\n",
       "      <td>1.507689</td>\n",
       "      <td>-0.139891</td>\n",
       "      <td>0.740811</td>\n",
       "      <td>-0.740811</td>\n",
       "      <td>-0.350325</td>\n",
       "      <td>1.243081</td>\n",
       "      <td>...</td>\n",
       "      <td>1.602644</td>\n",
       "      <td>-0.696584</td>\n",
       "      <td>-0.804750</td>\n",
       "      <td>-0.381568</td>\n",
       "      <td>0.726900</td>\n",
       "      <td>-0.349374</td>\n",
       "      <td>-0.351274</td>\n",
       "      <td>-0.316748</td>\n",
       "      <td>0.627510</td>\n",
       "      <td>-0.486429</td>\n",
       "    </tr>\n",
       "    <tr>\n",
       "      <th>1</th>\n",
       "      <td>0.659085</td>\n",
       "      <td>-1.035566</td>\n",
       "      <td>-0.647603</td>\n",
       "      <td>-0.868937</td>\n",
       "      <td>-0.959749</td>\n",
       "      <td>-1.095512</td>\n",
       "      <td>-1.349873</td>\n",
       "      <td>1.349873</td>\n",
       "      <td>-0.350325</td>\n",
       "      <td>-0.804453</td>\n",
       "      <td>...</td>\n",
       "      <td>-0.623969</td>\n",
       "      <td>1.435578</td>\n",
       "      <td>-0.804750</td>\n",
       "      <td>-0.381568</td>\n",
       "      <td>0.726900</td>\n",
       "      <td>-0.349374</td>\n",
       "      <td>-0.351274</td>\n",
       "      <td>-0.316748</td>\n",
       "      <td>0.627510</td>\n",
       "      <td>-0.486429</td>\n",
       "    </tr>\n",
       "    <tr>\n",
       "      <th>2</th>\n",
       "      <td>1.420050</td>\n",
       "      <td>0.448264</td>\n",
       "      <td>0.616028</td>\n",
       "      <td>1.629848</td>\n",
       "      <td>-1.664731</td>\n",
       "      <td>-0.020438</td>\n",
       "      <td>0.740811</td>\n",
       "      <td>-0.740811</td>\n",
       "      <td>-0.350325</td>\n",
       "      <td>1.243081</td>\n",
       "      <td>...</td>\n",
       "      <td>-0.623969</td>\n",
       "      <td>-0.696584</td>\n",
       "      <td>1.242623</td>\n",
       "      <td>2.620767</td>\n",
       "      <td>-1.375706</td>\n",
       "      <td>-0.349374</td>\n",
       "      <td>-0.351274</td>\n",
       "      <td>-0.316748</td>\n",
       "      <td>-1.593601</td>\n",
       "      <td>2.055799</td>\n",
       "    </tr>\n",
       "    <tr>\n",
       "      <th>3</th>\n",
       "      <td>0.079943</td>\n",
       "      <td>-1.267561</td>\n",
       "      <td>-1.123718</td>\n",
       "      <td>0.226697</td>\n",
       "      <td>-0.959749</td>\n",
       "      <td>-1.095512</td>\n",
       "      <td>0.740811</td>\n",
       "      <td>-0.740811</td>\n",
       "      <td>-0.350325</td>\n",
       "      <td>-0.804453</td>\n",
       "      <td>...</td>\n",
       "      <td>-0.623969</td>\n",
       "      <td>1.435578</td>\n",
       "      <td>-0.804750</td>\n",
       "      <td>-0.381568</td>\n",
       "      <td>0.726900</td>\n",
       "      <td>-0.349374</td>\n",
       "      <td>-0.351274</td>\n",
       "      <td>-0.316748</td>\n",
       "      <td>0.627510</td>\n",
       "      <td>-0.486429</td>\n",
       "    </tr>\n",
       "    <tr>\n",
       "      <th>4</th>\n",
       "      <td>0.921719</td>\n",
       "      <td>0.076587</td>\n",
       "      <td>1.009174</td>\n",
       "      <td>1.508110</td>\n",
       "      <td>0.097725</td>\n",
       "      <td>1.532446</td>\n",
       "      <td>-1.349873</td>\n",
       "      <td>1.349873</td>\n",
       "      <td>-0.350325</td>\n",
       "      <td>1.243081</td>\n",
       "      <td>...</td>\n",
       "      <td>-0.623969</td>\n",
       "      <td>-0.696584</td>\n",
       "      <td>1.242623</td>\n",
       "      <td>-0.381568</td>\n",
       "      <td>-1.375706</td>\n",
       "      <td>-0.349374</td>\n",
       "      <td>2.846782</td>\n",
       "      <td>-0.316748</td>\n",
       "      <td>0.627510</td>\n",
       "      <td>-0.486429</td>\n",
       "    </tr>\n",
       "    <tr>\n",
       "      <th>...</th>\n",
       "      <td>...</td>\n",
       "      <td>...</td>\n",
       "      <td>...</td>\n",
       "      <td>...</td>\n",
       "      <td>...</td>\n",
       "      <td>...</td>\n",
       "      <td>...</td>\n",
       "      <td>...</td>\n",
       "      <td>...</td>\n",
       "      <td>...</td>\n",
       "      <td>...</td>\n",
       "      <td>...</td>\n",
       "      <td>...</td>\n",
       "      <td>...</td>\n",
       "      <td>...</td>\n",
       "      <td>...</td>\n",
       "      <td>...</td>\n",
       "      <td>...</td>\n",
       "      <td>...</td>\n",
       "      <td>...</td>\n",
       "      <td>...</td>\n",
       "    </tr>\n",
       "    <tr>\n",
       "      <th>5676</th>\n",
       "      <td>-1.217514</td>\n",
       "      <td>-0.517403</td>\n",
       "      <td>-1.162816</td>\n",
       "      <td>0.004727</td>\n",
       "      <td>1.155198</td>\n",
       "      <td>0.099015</td>\n",
       "      <td>-1.349873</td>\n",
       "      <td>1.349873</td>\n",
       "      <td>-0.350325</td>\n",
       "      <td>-0.804453</td>\n",
       "      <td>...</td>\n",
       "      <td>1.602644</td>\n",
       "      <td>-0.696584</td>\n",
       "      <td>-0.804750</td>\n",
       "      <td>-0.381568</td>\n",
       "      <td>0.726900</td>\n",
       "      <td>-0.349374</td>\n",
       "      <td>-0.351274</td>\n",
       "      <td>-0.316748</td>\n",
       "      <td>0.627510</td>\n",
       "      <td>-0.486429</td>\n",
       "    </tr>\n",
       "    <tr>\n",
       "      <th>5677</th>\n",
       "      <td>-1.049159</td>\n",
       "      <td>-1.200436</td>\n",
       "      <td>1.513236</td>\n",
       "      <td>0.455014</td>\n",
       "      <td>-0.607258</td>\n",
       "      <td>-1.334417</td>\n",
       "      <td>-1.349873</td>\n",
       "      <td>1.349873</td>\n",
       "      <td>-0.350325</td>\n",
       "      <td>1.243081</td>\n",
       "      <td>...</td>\n",
       "      <td>-0.623969</td>\n",
       "      <td>-0.696584</td>\n",
       "      <td>1.242623</td>\n",
       "      <td>-0.381568</td>\n",
       "      <td>-1.375706</td>\n",
       "      <td>2.862264</td>\n",
       "      <td>-0.351274</td>\n",
       "      <td>-0.316748</td>\n",
       "      <td>0.627510</td>\n",
       "      <td>-0.486429</td>\n",
       "    </tr>\n",
       "    <tr>\n",
       "      <th>5678</th>\n",
       "      <td>1.433519</td>\n",
       "      <td>-0.635167</td>\n",
       "      <td>0.077770</td>\n",
       "      <td>-0.360485</td>\n",
       "      <td>0.802707</td>\n",
       "      <td>-0.498248</td>\n",
       "      <td>0.740811</td>\n",
       "      <td>-0.740811</td>\n",
       "      <td>-0.350325</td>\n",
       "      <td>-0.804453</td>\n",
       "      <td>...</td>\n",
       "      <td>-0.623969</td>\n",
       "      <td>1.435578</td>\n",
       "      <td>-0.804750</td>\n",
       "      <td>-0.381568</td>\n",
       "      <td>0.726900</td>\n",
       "      <td>-0.349374</td>\n",
       "      <td>-0.351274</td>\n",
       "      <td>-0.316748</td>\n",
       "      <td>-1.593601</td>\n",
       "      <td>2.055799</td>\n",
       "    </tr>\n",
       "    <tr>\n",
       "      <th>5679</th>\n",
       "      <td>-0.575520</td>\n",
       "      <td>0.613134</td>\n",
       "      <td>-0.084344</td>\n",
       "      <td>1.190844</td>\n",
       "      <td>-0.959749</td>\n",
       "      <td>-1.095512</td>\n",
       "      <td>-1.349873</td>\n",
       "      <td>1.349873</td>\n",
       "      <td>-0.350325</td>\n",
       "      <td>-0.804453</td>\n",
       "      <td>...</td>\n",
       "      <td>-0.623969</td>\n",
       "      <td>1.435578</td>\n",
       "      <td>-0.804750</td>\n",
       "      <td>-0.381568</td>\n",
       "      <td>0.726900</td>\n",
       "      <td>-0.349374</td>\n",
       "      <td>-0.351274</td>\n",
       "      <td>-0.316748</td>\n",
       "      <td>0.627510</td>\n",
       "      <td>-0.486429</td>\n",
       "    </tr>\n",
       "    <tr>\n",
       "      <th>5680</th>\n",
       "      <td>0.479506</td>\n",
       "      <td>-0.752932</td>\n",
       "      <td>0.722356</td>\n",
       "      <td>-0.990674</td>\n",
       "      <td>0.802707</td>\n",
       "      <td>-0.498248</td>\n",
       "      <td>-1.349873</td>\n",
       "      <td>1.349873</td>\n",
       "      <td>-0.350325</td>\n",
       "      <td>-0.804453</td>\n",
       "      <td>...</td>\n",
       "      <td>-0.623969</td>\n",
       "      <td>1.435578</td>\n",
       "      <td>-0.804750</td>\n",
       "      <td>-0.381568</td>\n",
       "      <td>0.726900</td>\n",
       "      <td>-0.349374</td>\n",
       "      <td>-0.351274</td>\n",
       "      <td>-0.316748</td>\n",
       "      <td>0.627510</td>\n",
       "      <td>-0.486429</td>\n",
       "    </tr>\n",
       "  </tbody>\n",
       "</table>\n",
       "<p>5681 rows × 21 columns</p>\n",
       "</div>"
      ],
      "text/plain": [
       "      Item_Identifier  Item_Weight  Item_Visibility  Item_MRP  \\\n",
       "0            0.739896     1.896764        -1.285395 -0.536555   \n",
       "1            0.659085    -1.035566        -0.647603 -0.868937   \n",
       "2            1.420050     0.448264         0.616028  1.629848   \n",
       "3            0.079943    -1.267561        -1.123718  0.226697   \n",
       "4            0.921719     0.076587         1.009174  1.508110   \n",
       "...               ...          ...              ...       ...   \n",
       "5676        -1.217514    -0.517403        -1.162816  0.004727   \n",
       "5677        -1.049159    -1.200436         1.513236  0.455014   \n",
       "5678         1.433519    -0.635167         0.077770 -0.360485   \n",
       "5679        -0.575520     0.613134        -0.084344  1.190844   \n",
       "5680         0.479506    -0.752932         0.722356 -0.990674   \n",
       "\n",
       "      Outlet_Identifier  Outlet_Age  Item_Fat_Content_0  Item_Fat_Content_1  \\\n",
       "0              1.507689   -0.139891            0.740811           -0.740811   \n",
       "1             -0.959749   -1.095512           -1.349873            1.349873   \n",
       "2             -1.664731   -0.020438            0.740811           -0.740811   \n",
       "3             -0.959749   -1.095512            0.740811           -0.740811   \n",
       "4              0.097725    1.532446           -1.349873            1.349873   \n",
       "...                 ...         ...                 ...                 ...   \n",
       "5676           1.155198    0.099015           -1.349873            1.349873   \n",
       "5677          -0.607258   -1.334417           -1.349873            1.349873   \n",
       "5678           0.802707   -0.498248            0.740811           -0.740811   \n",
       "5679          -0.959749   -1.095512           -1.349873            1.349873   \n",
       "5680           0.802707   -0.498248           -1.349873            1.349873   \n",
       "\n",
       "      Outlet_Size_0  Outlet_Size_1  ...  Outlet_Location_Type_0  \\\n",
       "0         -0.350325       1.243081  ...                1.602644   \n",
       "1         -0.350325      -0.804453  ...               -0.623969   \n",
       "2         -0.350325       1.243081  ...               -0.623969   \n",
       "3         -0.350325      -0.804453  ...               -0.623969   \n",
       "4         -0.350325       1.243081  ...               -0.623969   \n",
       "...             ...            ...  ...                     ...   \n",
       "5676      -0.350325      -0.804453  ...                1.602644   \n",
       "5677      -0.350325       1.243081  ...               -0.623969   \n",
       "5678      -0.350325      -0.804453  ...               -0.623969   \n",
       "5679      -0.350325      -0.804453  ...               -0.623969   \n",
       "5680      -0.350325      -0.804453  ...               -0.623969   \n",
       "\n",
       "      Outlet_Location_Type_1  Outlet_Location_Type_2  Outlet_Type_0  \\\n",
       "0                  -0.696584               -0.804750      -0.381568   \n",
       "1                   1.435578               -0.804750      -0.381568   \n",
       "2                  -0.696584                1.242623       2.620767   \n",
       "3                   1.435578               -0.804750      -0.381568   \n",
       "4                  -0.696584                1.242623      -0.381568   \n",
       "...                      ...                     ...            ...   \n",
       "5676               -0.696584               -0.804750      -0.381568   \n",
       "5677               -0.696584                1.242623      -0.381568   \n",
       "5678                1.435578               -0.804750      -0.381568   \n",
       "5679                1.435578               -0.804750      -0.381568   \n",
       "5680                1.435578               -0.804750      -0.381568   \n",
       "\n",
       "      Outlet_Type_1  Outlet_Type_2  Outlet_Type_3  Item_ID_Type_0  \\\n",
       "0          0.726900      -0.349374      -0.351274       -0.316748   \n",
       "1          0.726900      -0.349374      -0.351274       -0.316748   \n",
       "2         -1.375706      -0.349374      -0.351274       -0.316748   \n",
       "3          0.726900      -0.349374      -0.351274       -0.316748   \n",
       "4         -1.375706      -0.349374       2.846782       -0.316748   \n",
       "...             ...            ...            ...             ...   \n",
       "5676       0.726900      -0.349374      -0.351274       -0.316748   \n",
       "5677      -1.375706       2.862264      -0.351274       -0.316748   \n",
       "5678       0.726900      -0.349374      -0.351274       -0.316748   \n",
       "5679       0.726900      -0.349374      -0.351274       -0.316748   \n",
       "5680       0.726900      -0.349374      -0.351274       -0.316748   \n",
       "\n",
       "      Item_ID_Type_1  Item_ID_Type_2  \n",
       "0           0.627510       -0.486429  \n",
       "1           0.627510       -0.486429  \n",
       "2          -1.593601        2.055799  \n",
       "3           0.627510       -0.486429  \n",
       "4           0.627510       -0.486429  \n",
       "...              ...             ...  \n",
       "5676        0.627510       -0.486429  \n",
       "5677        0.627510       -0.486429  \n",
       "5678       -1.593601        2.055799  \n",
       "5679        0.627510       -0.486429  \n",
       "5680        0.627510       -0.486429  \n",
       "\n",
       "[5681 rows x 21 columns]"
      ]
     },
     "execution_count": 71,
     "metadata": {},
     "output_type": "execute_result"
    }
   ],
   "source": [
    "stnd_test"
   ]
  },
  {
   "cell_type": "markdown",
   "metadata": {},
   "source": [
    "# Visualising the Models"
   ]
  },
  {
   "cell_type": "code",
   "execution_count": 72,
   "metadata": {
    "execution": {
     "iopub.execute_input": "2023-07-10T08:33:27.995600Z",
     "iopub.status.busy": "2023-07-10T08:33:27.994391Z",
     "iopub.status.idle": "2023-07-10T08:33:28.304220Z",
     "shell.execute_reply": "2023-07-10T08:33:28.303067Z",
     "shell.execute_reply.started": "2023-07-10T08:33:27.995534Z"
    }
   },
   "outputs": [
    {
     "data": {
      "text/plain": [
       "<AxesSubplot:>"
      ]
     },
     "execution_count": 72,
     "metadata": {},
     "output_type": "execute_result"
    },
    {
     "data": {
      "image/png": "[encoded data removed]",
      "text/plain": [
       "<Figure size 1300x1000 with 1 Axes>"
      ]
     },
     "metadata": {},
     "output_type": "display_data"
    }
   ],
   "source": [
    "model_scores = sorted([lrg_rmse_scores.mean(), tree_rmse_scores.mean(), forest_rmse_scores.mean()])\n",
    "plt.figure(figsize=(13,10))\n",
    "\n",
    "\n",
    "sns.set_style(\"darkgrid\")\n",
    "sns.barplot(x=['Linear Regression','Decision Tree Regressor','Random Forest Regressor'],y=model_scores,)"
   ]
  },
  {
   "cell_type": "markdown",
   "metadata": {},
   "source": [
    "# Summary\n",
    "\n",
    "- we managed to build a Linear Regression model with\n",
    "    - Score: 0.58,\n",
    "    - Root Mean Squared Error :  1002.14 "
   ]
  }
 ],
 "metadata": {
  "kernelspec": {
   "display_name": "Python 3 (ipykernel)",
   "language": "python",
   "name": "python3"
  },
  "language_info": {
   "codemirror_mode": {
    "name": "ipython",
    "version": 3
   },
   "file_extension": ".py",
   "mimetype": "text/x-python",
   "name": "python",
   "nbconvert_exporter": "python",
   "pygments_lexer": "ipython3",
   "version": "3.11.4"
  }
 },
 "nbformat": 4,
 "nbformat_minor": 4
}
